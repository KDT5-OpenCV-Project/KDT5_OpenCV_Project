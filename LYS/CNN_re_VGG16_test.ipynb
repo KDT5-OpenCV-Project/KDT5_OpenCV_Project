{
 "cells": [
  {
   "cell_type": "markdown",
   "source": [
    "# Pizza or Not Pizza 분류(VGG Ver)\n",
    "- 스케줄러 제대로 사용한 ver"
   ],
   "metadata": {
    "collapsed": false
   },
   "id": "35b0beaa710e4036"
  },
  {
   "cell_type": "code",
   "outputs": [
    {
     "name": "stderr",
     "output_type": "stream",
     "text": [
      "C:\\Users\\kdp\\anaconda3\\envs\\Torch_PY38\\lib\\site-packages\\torchvision\\io\\image.py:13: UserWarning: Failed to load image Python extension: '[WinError 127] 지정된 프로시저를 찾을 수 없습니다'If you don't plan on using image functionality from `torchvision.io`, you can ignore this warning. Otherwise, there might be something wrong with your environment. Did you have `libjpeg` or `libpng` installed before building `torchvision` from source?\n",
      "  warn(\n"
     ]
    }
   ],
   "source": [
    "# 모듈 로딩\n",
    "import pandas as pd\n",
    "import numpy as np\n",
    "\n",
    "from PIL import Image\n",
    "import torchvision.transforms as transforms\n",
    "from torch.utils.data import DataLoader, WeightedRandomSampler\n",
    "\n",
    "\n",
    "import torch\n",
    "import torch.nn as nn\n",
    "import torch.nn.functional as F\n",
    "import torch.optim as optim\n",
    "import torch.nn.init as init\n",
    "import matplotlib.pyplot as plt"
   ],
   "metadata": {
    "collapsed": false,
    "ExecuteTime": {
     "end_time": "2024-03-27T03:14:27.500813800Z",
     "start_time": "2024-03-27T03:14:25.997472700Z"
    }
   },
   "id": "9194ba7419847ba8",
   "execution_count": 2
  },
  {
   "cell_type": "markdown",
   "source": [
    "# 데이터 불러오기"
   ],
   "metadata": {
    "collapsed": false
   },
   "id": "2e665d5a2538f343"
  },
  {
   "cell_type": "code",
   "outputs": [],
   "source": [
    "from torchvision.datasets import ImageFolder \n",
    "\n",
    "train_root = \"../data/project_img/train\" # 해당 경로 내에 있는 파일명이 곧 label이 되는 것\n",
    "val_root = \"../data/project_img/validation\"\n",
    "test_root = \"../data/project_img/test\"\n",
    "\n",
    "\n",
    "mean = [0.485, 0.456, 0.406]\n",
    "std = [0.229, 0.224, 0.225]\n",
    "\n",
    "preprocessing = transforms.Compose([\n",
    "    transforms.Resize((50, 50), interpolation=transforms.InterpolationMode.BILINEAR), # 1. resize\n",
    "    # transforms.CenterCrop(224), # 2. 중앙크롭\n",
    "    transforms.ToTensor(),  # 3. 값의 크기를 0~1로\n",
    "    transforms.Normalize(mean=mean, std=std) # 4. normalized\n",
    "])\n",
    "\n",
    "trainDS = ImageFolder(root=train_root, transform=preprocessing)\n",
    "valDS = ImageFolder(root=val_root, transform=preprocessing)\n",
    "testDS = ImageFolder(root=test_root, transform=preprocessing)"
   ],
   "metadata": {
    "collapsed": false,
    "ExecuteTime": {
     "end_time": "2024-03-27T03:14:27.551222400Z",
     "start_time": "2024-03-27T03:14:27.509273Z"
    }
   },
   "id": "56ee1fd646844f7b",
   "execution_count": 3
  },
  {
   "cell_type": "markdown",
   "source": [
    "## 데이터 셋이 잘 읽혔는지 확인"
   ],
   "metadata": {
    "collapsed": false
   },
   "id": "bca4528fe0e93b19"
  },
  {
   "cell_type": "code",
   "outputs": [
    {
     "data": {
      "text/plain": "(['not_pizza', 'pizza'], {'not_pizza': 0, 'pizza': 1})"
     },
     "execution_count": 4,
     "metadata": {},
     "output_type": "execute_result"
    }
   ],
   "source": [
    "trainDS.classes, trainDS.class_to_idx"
   ],
   "metadata": {
    "collapsed": false,
    "ExecuteTime": {
     "end_time": "2024-03-27T03:14:27.592912Z",
     "start_time": "2024-03-27T03:14:27.537060600Z"
    }
   },
   "id": "bc9729a8211af0cc",
   "execution_count": 4
  },
  {
   "cell_type": "code",
   "outputs": [
    {
     "data": {
      "text/plain": "(['not_pizza', 'pizza'], {'not_pizza': 0, 'pizza': 1})"
     },
     "execution_count": 5,
     "metadata": {},
     "output_type": "execute_result"
    }
   ],
   "source": [
    "valDS.classes, valDS.class_to_idx"
   ],
   "metadata": {
    "collapsed": false,
    "ExecuteTime": {
     "end_time": "2024-03-27T03:14:27.595107300Z",
     "start_time": "2024-03-27T03:14:27.563320800Z"
    }
   },
   "id": "fe102052011e9fe9",
   "execution_count": 5
  },
  {
   "cell_type": "code",
   "outputs": [
    {
     "data": {
      "text/plain": "(['not_pizza', 'pizza'], {'not_pizza': 0, 'pizza': 1})"
     },
     "execution_count": 6,
     "metadata": {},
     "output_type": "execute_result"
    }
   ],
   "source": [
    "testDS.classes, testDS.class_to_idx"
   ],
   "metadata": {
    "collapsed": false,
    "ExecuteTime": {
     "end_time": "2024-03-27T03:14:27.596208800Z",
     "start_time": "2024-03-27T03:14:27.581415600Z"
    }
   },
   "id": "57df3703ffeabc57",
   "execution_count": 6
  },
  {
   "cell_type": "code",
   "outputs": [
    {
     "data": {
      "text/plain": "(1600, 200, 166)"
     },
     "execution_count": 7,
     "metadata": {},
     "output_type": "execute_result"
    }
   ],
   "source": [
    "# 비율 확인\n",
    "len(trainDS), len(valDS), len(testDS)"
   ],
   "metadata": {
    "collapsed": false,
    "ExecuteTime": {
     "end_time": "2024-03-27T03:14:27.653091100Z",
     "start_time": "2024-03-27T03:14:27.595107300Z"
    }
   },
   "id": "85e25d525831aadb",
   "execution_count": 7
  },
  {
   "cell_type": "code",
   "outputs": [
    {
     "data": {
      "text/plain": "tensor([[[-2.0152, -1.9980, -1.9124,  ..., -0.0116, -0.0801, -0.1828],\n         [-1.8439, -1.6384, -1.3644,  ...,  0.0569,  0.0056, -0.0972],\n         [-1.2445, -1.1075, -0.9877,  ...,  0.0912,  0.0569, -0.0801],\n         ...,\n         [-1.0733, -0.9534, -0.8164,  ...,  0.8104,  0.6049,  0.2111],\n         [-1.1418, -1.0219, -0.8507,  ...,  0.8789,  0.8618,  0.8104],\n         [-1.1932, -1.0562, -0.9020,  ...,  0.8961,  0.8789,  0.8618]],\n\n        [[-1.9657, -1.9482, -1.8957,  ...,  0.1352,  0.0826, -0.0224],\n         [-1.8256, -1.6331, -1.3704,  ...,  0.2227,  0.1877,  0.0826],\n         [-1.2829, -1.1429, -1.0378,  ...,  0.2927,  0.2577,  0.1176],\n         ...,\n         [-1.0903, -0.9853, -0.8627,  ...,  1.0280,  0.8179,  0.3803],\n         [-1.1429, -1.0378, -0.8978,  ...,  1.0980,  1.0630,  1.0280],\n         [-1.1954, -1.0553, -0.9503,  ...,  1.1331,  1.0980,  1.0980]],\n\n        [[-1.7173, -1.6999, -1.6302,  ...,  0.3393,  0.2871,  0.1825],\n         [-1.5779, -1.3861, -1.1247,  ...,  0.4265,  0.3916,  0.2871],\n         [-1.0550, -0.9156, -0.7936,  ...,  0.4962,  0.4614,  0.3219],\n         ...,\n         [-0.8458, -0.6715, -0.5495,  ...,  1.3677,  1.1585,  0.6879],\n         [-0.8807, -0.7413, -0.5844,  ...,  1.4374,  1.4374,  1.3851],\n         [-0.9156, -0.7587, -0.6367,  ...,  1.4548,  1.4374,  1.4374]]])"
     },
     "execution_count": 8,
     "metadata": {},
     "output_type": "execute_result"
    }
   ],
   "source": [
    "trainDS[0][0]"
   ],
   "metadata": {
    "collapsed": false,
    "ExecuteTime": {
     "end_time": "2024-03-27T03:14:27.657263700Z",
     "start_time": "2024-03-27T03:14:27.609522400Z"
    }
   },
   "id": "61d8a022288c4db3",
   "execution_count": 8
  },
  {
   "cell_type": "code",
   "outputs": [],
   "source": [
    "# def make_weights(labels, nclasses):\n",
    "#     labels = np.array(labels)   # where, unique 함수를 사용하기 위해 numpy로 변환한다.\n",
    "#     weight_list = []   # 가중치를 저장하는 배열을 생성한다.\n",
    "#  \n",
    "#     for cls in range(nclasses):\n",
    "#         idx = np.where(labels == cls)[0]\n",
    "#         count = len(idx)    #각 클래스 데이터 수 카운트 \n",
    "#         weight = 1/count    \n",
    "#         weights = [weight] * count    #라벨이 뽑힐 가중치를 1/count로 동일하게 전체 라벨에 할당 \n",
    "#         weight_list += weights\n",
    "#  \n",
    "#     return weight_list\n"
   ],
   "metadata": {
    "collapsed": false,
    "ExecuteTime": {
     "end_time": "2024-03-27T03:14:27.658261400Z",
     "start_time": "2024-03-27T03:14:27.640343500Z"
    }
   },
   "id": "cbb1702bbd732a70",
   "execution_count": 9
  },
  {
   "cell_type": "code",
   "outputs": [],
   "source": [
    "# sampler -> 각 배치의 분포를 맞추기 위함 \n",
    "# weights = make_weights(imgDS.targets, len(imgDS.classes))\n",
    "weights = torch.ones(len(trainDS.targets), dtype=torch.float)\n",
    "# print(weights)\n",
    "sampler = WeightedRandomSampler(weights, len(weights))\n",
    "\n",
    "train_DL = DataLoader(trainDS, batch_size=50, sampler=sampler)\n",
    "\n",
    "weights = torch.ones(len(valDS.targets), dtype=torch.float)\n",
    "# print(weights)\n",
    "sampler = WeightedRandomSampler(weights, len(weights))\n",
    "val_DL = DataLoader(valDS, batch_size=20, sampler=sampler) \n",
    "test_DL = DataLoader(testDS, batch_size=83) # 걍 통으로 레쭈꼬\n",
    "\n",
    "# max = 10\n",
    "# for cnt, (_, label) in enumerate(train_DL):\n",
    "#     print(f'batch별 target 분포\\n{label.bincount()}\\n')\n",
    "#     if cnt > max:\n",
    "#         break"
   ],
   "metadata": {
    "collapsed": false,
    "ExecuteTime": {
     "end_time": "2024-03-27T03:14:27.704205600Z",
     "start_time": "2024-03-27T03:14:27.658261400Z"
    }
   },
   "id": "9d6debbd99eead3a",
   "execution_count": 10
  },
  {
   "cell_type": "code",
   "outputs": [],
   "source": [
    "# max = 10\n",
    "# for cnt, (_, label) in enumerate(val_DL):\n",
    "#     print(f'batch별 target 분포\\n{label.bincount()}\\n')\n",
    "#     if cnt > max:\n",
    "#         break"
   ],
   "metadata": {
    "collapsed": false,
    "ExecuteTime": {
     "end_time": "2024-03-27T03:14:27.706386800Z",
     "start_time": "2024-03-27T03:14:27.669338600Z"
    }
   },
   "id": "5ba577f82fb7b486",
   "execution_count": 11
  },
  {
   "cell_type": "code",
   "outputs": [
    {
     "data": {
      "text/plain": "(32, 10, 2)"
     },
     "execution_count": 12,
     "metadata": {},
     "output_type": "execute_result"
    }
   ],
   "source": [
    "len(train_DL), len(val_DL), len(test_DL) # 배치 개수"
   ],
   "metadata": {
    "collapsed": false,
    "ExecuteTime": {
     "end_time": "2024-03-27T03:14:27.707386300Z",
     "start_time": "2024-03-27T03:14:27.685783800Z"
    }
   },
   "id": "6117f2ba111ec92c",
   "execution_count": 12
  },
  {
   "cell_type": "markdown",
   "source": [
    "# 전이학습 VGG model 불러오기"
   ],
   "metadata": {
    "collapsed": false
   },
   "id": "c597ce825f4d8c60"
  },
  {
   "cell_type": "code",
   "outputs": [
    {
     "name": "stdout",
     "output_type": "stream",
     "text": [
      "Using PyTorch version: 2.2.0  Device: cpu\n"
     ]
    }
   ],
   "source": [
    "### ===> 딥러닝 모델을 설계할 때 활용하는 장비 확인\n",
    "if torch.cuda.is_available():\n",
    "    DEVICE = torch.device('cuda')\n",
    "else:\n",
    "    DEVICE = torch.device('cpu')\n",
    "    \n",
    "print('Using PyTorch version:', torch.__version__, ' Device:', DEVICE)"
   ],
   "metadata": {
    "collapsed": false,
    "ExecuteTime": {
     "end_time": "2024-03-27T03:14:27.764497900Z",
     "start_time": "2024-03-27T03:14:27.702055400Z"
    }
   },
   "id": "f343160eda89d149",
   "execution_count": 13
  },
  {
   "cell_type": "code",
   "outputs": [
    {
     "name": "stderr",
     "output_type": "stream",
     "text": [
      "C:\\Users\\kdp\\anaconda3\\envs\\Torch_PY38\\lib\\site-packages\\torchvision\\models\\_utils.py:208: UserWarning: The parameter 'pretrained' is deprecated since 0.13 and may be removed in the future, please use 'weights' instead.\n",
      "  warnings.warn(\n",
      "C:\\Users\\kdp\\anaconda3\\envs\\Torch_PY38\\lib\\site-packages\\torchvision\\models\\_utils.py:223: UserWarning: Arguments other than a weight enum or `None` for 'weights' are deprecated since 0.13 and may be removed in the future. The current behavior is equivalent to passing `weights=VGG16_Weights.IMAGENET1K_V1`. You can also use `weights=VGG16_Weights.DEFAULT` to get the most up-to-date weights.\n",
      "  warnings.warn(msg)\n"
     ]
    }
   ],
   "source": [
    "# 사전 학습된 모델 로딩\n",
    "import torchvision.models as models # 다양한모델패키지\n",
    "model = models.vgg16(pretrained=True)\n",
    "\n",
    "# 사전 훈련된 모델의 파라미터 학습 유무 설정 함수\n",
    "def set_parameter_requires_grad(model, feature_extract = True):\n",
    "    if feature_extract:\n",
    "        for param in model.parameters():\n",
    "            param.requires_grad = False # 학습하는 것을 방지\n",
    "\n",
    "set_parameter_requires_grad(model) # 함수 호출"
   ],
   "metadata": {
    "collapsed": false,
    "ExecuteTime": {
     "end_time": "2024-03-27T03:14:29.051048500Z",
     "start_time": "2024-03-27T03:14:27.718174800Z"
    }
   },
   "id": "b15a9b47ccfd2140",
   "execution_count": 14
  },
  {
   "cell_type": "code",
   "outputs": [
    {
     "name": "stdout",
     "output_type": "stream",
     "text": [
      "BinaryClassifier(\n",
      "  (features): Sequential(\n",
      "    (0): Conv2d(3, 64, kernel_size=(3, 3), stride=(1, 1), padding=(1, 1))\n",
      "    (1): ReLU(inplace=True)\n",
      "    (2): Conv2d(64, 64, kernel_size=(3, 3), stride=(1, 1), padding=(1, 1))\n",
      "    (3): ReLU(inplace=True)\n",
      "    (4): MaxPool2d(kernel_size=2, stride=2, padding=0, dilation=1, ceil_mode=False)\n",
      "    (5): Conv2d(64, 128, kernel_size=(3, 3), stride=(1, 1), padding=(1, 1))\n",
      "    (6): ReLU(inplace=True)\n",
      "    (7): Conv2d(128, 128, kernel_size=(3, 3), stride=(1, 1), padding=(1, 1))\n",
      "    (8): ReLU(inplace=True)\n",
      "    (9): MaxPool2d(kernel_size=2, stride=2, padding=0, dilation=1, ceil_mode=False)\n",
      "    (10): Conv2d(128, 256, kernel_size=(3, 3), stride=(1, 1), padding=(1, 1))\n",
      "    (11): ReLU(inplace=True)\n",
      "    (12): Conv2d(256, 256, kernel_size=(3, 3), stride=(1, 1), padding=(1, 1))\n",
      "    (13): ReLU(inplace=True)\n",
      "    (14): Conv2d(256, 256, kernel_size=(3, 3), stride=(1, 1), padding=(1, 1))\n",
      "    (15): ReLU(inplace=True)\n",
      "    (16): MaxPool2d(kernel_size=2, stride=2, padding=0, dilation=1, ceil_mode=False)\n",
      "    (17): Conv2d(256, 512, kernel_size=(3, 3), stride=(1, 1), padding=(1, 1))\n",
      "    (18): ReLU(inplace=True)\n",
      "    (19): Conv2d(512, 512, kernel_size=(3, 3), stride=(1, 1), padding=(1, 1))\n",
      "    (20): ReLU(inplace=True)\n",
      "    (21): Conv2d(512, 512, kernel_size=(3, 3), stride=(1, 1), padding=(1, 1))\n",
      "    (22): ReLU(inplace=True)\n",
      "    (23): MaxPool2d(kernel_size=2, stride=2, padding=0, dilation=1, ceil_mode=False)\n",
      "    (24): Conv2d(512, 512, kernel_size=(3, 3), stride=(1, 1), padding=(1, 1))\n",
      "    (25): ReLU(inplace=True)\n",
      "    (26): Conv2d(512, 512, kernel_size=(3, 3), stride=(1, 1), padding=(1, 1))\n",
      "    (27): ReLU(inplace=True)\n",
      "    (28): Conv2d(512, 512, kernel_size=(3, 3), stride=(1, 1), padding=(1, 1))\n",
      "    (29): ReLU(inplace=True)\n",
      "    (30): MaxPool2d(kernel_size=2, stride=2, padding=0, dilation=1, ceil_mode=False)\n",
      "  )\n",
      "  (fc): Sequential(\n",
      "    (0): Linear(in_features=512, out_features=4096, bias=True)\n",
      "    (1): ReLU()\n",
      "    (2): Dropout(p=0.5, inplace=False)\n",
      "    (3): Linear(in_features=4096, out_features=1, bias=True)\n",
      "    (4): Sigmoid()\n",
      "  )\n",
      ")\n"
     ]
    }
   ],
   "source": [
    "# 분류기 부분을 이진 분류기로 수정하는 클래스 정의\n",
    "class BinaryClassifier(nn.Module):\n",
    "    def __init__(self):\n",
    "        super(BinaryClassifier, self).__init__()\n",
    "        # VGG16의 특성 추출기 부분만 가져오기\n",
    "        self.features = model.features\n",
    "        # VGG16의 특성 추출기의 출력 크기 계산\n",
    "        self.num_features = 512 * 1 * 1  # VGG16은 입력 이미지를 224x224 크기로 처리하므로, 여기서는 1x1로 출력됩니다.\n",
    "        # 이진 분류를 위한 새로운 fully connected layer 정의\n",
    "        self.fc = nn.Sequential(\n",
    "            nn.Linear(self.num_features, 4096),  # 특성 추출기의 출력 크기를 입력으로 받음\n",
    "            nn.ReLU(),\n",
    "            nn.Dropout(0.5),\n",
    "            nn.Linear(4096, 1),  # 이진 분류를 위한 출력 뉴런 수\n",
    "            nn.Sigmoid()  # 이진 분류를 위한 시그모이드 활성화 함수\n",
    "        )\n",
    "\n",
    "    def forward(self, x):\n",
    "        x = self.features(x)\n",
    "        x = x.view(x.size(0), -1)  # flatten\n",
    "        x = self.fc(x)\n",
    "        return x\n",
    "\n",
    "# 모델 생성\n",
    "model = BinaryClassifier()\n",
    "\n",
    "# 특성 추출기 부분의 파라미터를 고정시킴\n",
    "set_parameter_requires_grad(model)\n",
    "\n",
    "# 모델 구조 확인\n",
    "print(model)"
   ],
   "metadata": {
    "collapsed": false,
    "ExecuteTime": {
     "end_time": "2024-03-27T03:14:29.097122500Z",
     "start_time": "2024-03-27T03:14:29.057234500Z"
    }
   },
   "id": "314cb3aab41e2842",
   "execution_count": 15
  },
  {
   "cell_type": "code",
   "outputs": [],
   "source": [
    "for param in model.fc.parameters(): # 완전연결층은학습\n",
    "    param.requires_grad = True"
   ],
   "metadata": {
    "collapsed": false,
    "ExecuteTime": {
     "end_time": "2024-03-27T03:14:29.098121600Z",
     "start_time": "2024-03-27T03:14:29.086337100Z"
    }
   },
   "id": "fffa1a3d26ecf411",
   "execution_count": 16
  },
  {
   "cell_type": "markdown",
   "source": [
    "위 코드에서 BinaryClassifier 클래스는 VGG16의 특성 추출기 부분을 가져와서 이진 분류를 위한 새로운 fully connected layer를 추가하여 이진 분류기로 만듭니다. set_parameter_requires_grad 함수를 사용하여 특성 추출기 부분의 파라미터를 고정시킵니다. 이렇게 하면 특성 추출기 부분은 사전 훈련된 가중치를 고정시키고, 분류기 부분만 새로 훈련됩니다."
   ],
   "metadata": {
    "collapsed": false
   },
   "id": "24d3416a54cb0d5"
  },
  {
   "cell_type": "code",
   "outputs": [
    {
     "data": {
      "text/plain": "{'training': True,\n '_parameters': OrderedDict(),\n '_buffers': OrderedDict(),\n '_non_persistent_buffers_set': set(),\n '_backward_pre_hooks': OrderedDict(),\n '_backward_hooks': OrderedDict(),\n '_is_full_backward_hook': None,\n '_forward_hooks': OrderedDict(),\n '_forward_hooks_with_kwargs': OrderedDict(),\n '_forward_hooks_always_called': OrderedDict(),\n '_forward_pre_hooks': OrderedDict(),\n '_forward_pre_hooks_with_kwargs': OrderedDict(),\n '_state_dict_hooks': OrderedDict(),\n '_state_dict_pre_hooks': OrderedDict(),\n '_load_state_dict_pre_hooks': OrderedDict(),\n '_load_state_dict_post_hooks': OrderedDict(),\n '_modules': OrderedDict([('features',\n               Sequential(\n                 (0): Conv2d(3, 64, kernel_size=(3, 3), stride=(1, 1), padding=(1, 1))\n                 (1): ReLU(inplace=True)\n                 (2): Conv2d(64, 64, kernel_size=(3, 3), stride=(1, 1), padding=(1, 1))\n                 (3): ReLU(inplace=True)\n                 (4): MaxPool2d(kernel_size=2, stride=2, padding=0, dilation=1, ceil_mode=False)\n                 (5): Conv2d(64, 128, kernel_size=(3, 3), stride=(1, 1), padding=(1, 1))\n                 (6): ReLU(inplace=True)\n                 (7): Conv2d(128, 128, kernel_size=(3, 3), stride=(1, 1), padding=(1, 1))\n                 (8): ReLU(inplace=True)\n                 (9): MaxPool2d(kernel_size=2, stride=2, padding=0, dilation=1, ceil_mode=False)\n                 (10): Conv2d(128, 256, kernel_size=(3, 3), stride=(1, 1), padding=(1, 1))\n                 (11): ReLU(inplace=True)\n                 (12): Conv2d(256, 256, kernel_size=(3, 3), stride=(1, 1), padding=(1, 1))\n                 (13): ReLU(inplace=True)\n                 (14): Conv2d(256, 256, kernel_size=(3, 3), stride=(1, 1), padding=(1, 1))\n                 (15): ReLU(inplace=True)\n                 (16): MaxPool2d(kernel_size=2, stride=2, padding=0, dilation=1, ceil_mode=False)\n                 (17): Conv2d(256, 512, kernel_size=(3, 3), stride=(1, 1), padding=(1, 1))\n                 (18): ReLU(inplace=True)\n                 (19): Conv2d(512, 512, kernel_size=(3, 3), stride=(1, 1), padding=(1, 1))\n                 (20): ReLU(inplace=True)\n                 (21): Conv2d(512, 512, kernel_size=(3, 3), stride=(1, 1), padding=(1, 1))\n                 (22): ReLU(inplace=True)\n                 (23): MaxPool2d(kernel_size=2, stride=2, padding=0, dilation=1, ceil_mode=False)\n                 (24): Conv2d(512, 512, kernel_size=(3, 3), stride=(1, 1), padding=(1, 1))\n                 (25): ReLU(inplace=True)\n                 (26): Conv2d(512, 512, kernel_size=(3, 3), stride=(1, 1), padding=(1, 1))\n                 (27): ReLU(inplace=True)\n                 (28): Conv2d(512, 512, kernel_size=(3, 3), stride=(1, 1), padding=(1, 1))\n                 (29): ReLU(inplace=True)\n                 (30): MaxPool2d(kernel_size=2, stride=2, padding=0, dilation=1, ceil_mode=False)\n               )),\n              ('fc',\n               Sequential(\n                 (0): Linear(in_features=512, out_features=4096, bias=True)\n                 (1): ReLU()\n                 (2): Dropout(p=0.5, inplace=False)\n                 (3): Linear(in_features=4096, out_features=1, bias=True)\n                 (4): Sigmoid()\n               ))]),\n 'num_features': 512}"
     },
     "execution_count": 17,
     "metadata": {},
     "output_type": "execute_result"
    }
   ],
   "source": [
    "model.__dict__"
   ],
   "metadata": {
    "collapsed": false,
    "ExecuteTime": {
     "end_time": "2024-03-27T03:14:29.139817Z",
     "start_time": "2024-03-27T03:14:29.102261300Z"
    }
   },
   "id": "84b984fb1fcbda88",
   "execution_count": 17
  },
  {
   "cell_type": "code",
   "outputs": [],
   "source": [],
   "metadata": {
    "collapsed": false,
    "ExecuteTime": {
     "end_time": "2024-03-27T03:14:29.140876400Z",
     "start_time": "2024-03-27T03:14:29.114793100Z"
    }
   },
   "id": "6db6bdd58f0d3855",
   "execution_count": 17
  },
  {
   "cell_type": "code",
   "outputs": [
    {
     "name": "stdout",
     "output_type": "stream",
     "text": [
      "BinaryClassifier(\n",
      "  (features): Sequential(\n",
      "    (0): Conv2d(3, 64, kernel_size=(3, 3), stride=(1, 1), padding=(1, 1))\n",
      "    (1): ReLU(inplace=True)\n",
      "    (2): Conv2d(64, 64, kernel_size=(3, 3), stride=(1, 1), padding=(1, 1))\n",
      "    (3): ReLU(inplace=True)\n",
      "    (4): MaxPool2d(kernel_size=2, stride=2, padding=0, dilation=1, ceil_mode=False)\n",
      "    (5): Conv2d(64, 128, kernel_size=(3, 3), stride=(1, 1), padding=(1, 1))\n",
      "    (6): ReLU(inplace=True)\n",
      "    (7): Conv2d(128, 128, kernel_size=(3, 3), stride=(1, 1), padding=(1, 1))\n",
      "    (8): ReLU(inplace=True)\n",
      "    (9): MaxPool2d(kernel_size=2, stride=2, padding=0, dilation=1, ceil_mode=False)\n",
      "    (10): Conv2d(128, 256, kernel_size=(3, 3), stride=(1, 1), padding=(1, 1))\n",
      "    (11): ReLU(inplace=True)\n",
      "    (12): Conv2d(256, 256, kernel_size=(3, 3), stride=(1, 1), padding=(1, 1))\n",
      "    (13): ReLU(inplace=True)\n",
      "    (14): Conv2d(256, 256, kernel_size=(3, 3), stride=(1, 1), padding=(1, 1))\n",
      "    (15): ReLU(inplace=True)\n",
      "    (16): MaxPool2d(kernel_size=2, stride=2, padding=0, dilation=1, ceil_mode=False)\n",
      "    (17): Conv2d(256, 512, kernel_size=(3, 3), stride=(1, 1), padding=(1, 1))\n",
      "    (18): ReLU(inplace=True)\n",
      "    (19): Conv2d(512, 512, kernel_size=(3, 3), stride=(1, 1), padding=(1, 1))\n",
      "    (20): ReLU(inplace=True)\n",
      "    (21): Conv2d(512, 512, kernel_size=(3, 3), stride=(1, 1), padding=(1, 1))\n",
      "    (22): ReLU(inplace=True)\n",
      "    (23): MaxPool2d(kernel_size=2, stride=2, padding=0, dilation=1, ceil_mode=False)\n",
      "    (24): Conv2d(512, 512, kernel_size=(3, 3), stride=(1, 1), padding=(1, 1))\n",
      "    (25): ReLU(inplace=True)\n",
      "    (26): Conv2d(512, 512, kernel_size=(3, 3), stride=(1, 1), padding=(1, 1))\n",
      "    (27): ReLU(inplace=True)\n",
      "    (28): Conv2d(512, 512, kernel_size=(3, 3), stride=(1, 1), padding=(1, 1))\n",
      "    (29): ReLU(inplace=True)\n",
      "    (30): MaxPool2d(kernel_size=2, stride=2, padding=0, dilation=1, ceil_mode=False)\n",
      "  )\n",
      "  (fc): Sequential(\n",
      "    (0): Linear(in_features=512, out_features=4096, bias=True)\n",
      "    (1): ReLU()\n",
      "    (2): Dropout(p=0.5, inplace=False)\n",
      "    (3): Linear(in_features=4096, out_features=1, bias=True)\n",
      "    (4): Sigmoid()\n",
      "  )\n",
      ")\n"
     ]
    }
   ],
   "source": [
    "\n",
    "#################\n",
    "optimizer = torch.optim.Adam(model.fc.parameters()) # fc인 것이 중요!!\n",
    "criterion = nn.BCELoss() # 손실 함수 정의\n",
    "print(model)"
   ],
   "metadata": {
    "collapsed": false,
    "ExecuteTime": {
     "end_time": "2024-03-27T03:14:29.881934300Z",
     "start_time": "2024-03-27T03:14:29.132532600Z"
    }
   },
   "id": "6de9a22f5a594f21",
   "execution_count": 18
  },
  {
   "cell_type": "code",
   "outputs": [
    {
     "name": "stderr",
     "output_type": "stream",
     "text": [
      "C:\\Users\\kdp\\anaconda3\\envs\\Torch_PY38\\lib\\site-packages\\torch\\optim\\lr_scheduler.py:28: UserWarning: The verbose parameter is deprecated. Please use get_last_lr() to access the learning rate.\n",
      "  warnings.warn(\"The verbose parameter is deprecated. Please use get_last_lr() \"\n"
     ]
    }
   ],
   "source": [
    "from torch.optim.lr_scheduler import ReduceLROnPlateau # 스케줄러 생성 \n",
    "scheduler = ReduceLROnPlateau(optimizer, 'min', patience=3, verbose=True)"
   ],
   "metadata": {
    "collapsed": false,
    "ExecuteTime": {
     "end_time": "2024-03-27T03:14:29.916912800Z",
     "start_time": "2024-03-27T03:14:29.885745900Z"
    }
   },
   "id": "173cc961d1fe0c37",
   "execution_count": 19
  },
  {
   "cell_type": "code",
   "outputs": [],
   "source": [
    "# CNN 모델 학습 진행 함수\n",
    "def train(epoch, model, train_loader, optimizer, log_interval):\n",
    "    model.train()\n",
    "    total_loss = 0\n",
    "    correct = 0\n",
    "    \n",
    "    for batch_idx, (image, label) in enumerate(train_loader):\n",
    "        image = image.to(DEVICE)\n",
    "        label = label.to(DEVICE)\n",
    "        # label = label.unsqueeze(dim=1).dtype(torch.)\n",
    "        \n",
    "        optimizer.zero_grad()\n",
    "        output = model(image)\n",
    "        label = label.float()\n",
    "        \n",
    "        loss = criterion(output, label.unsqueeze(dim = 1))\n",
    "        loss.backward()\n",
    "        optimizer.step()\n",
    "        \n",
    "        total_loss += criterion(output, label.unsqueeze(dim = 1)).item()\n",
    "        prediction = output.round()\n",
    "        correct += prediction.eq(label.view_as(prediction)).sum().item()\n",
    "        \n",
    "        if batch_idx % log_interval == 0:\n",
    "            print(f\"Train Epoch: {epoch} [{batch_idx}]\\tTrain Loss: {loss.item():.6f}\")\n",
    "            \n",
    "    total_loss /= len(train_loader.dataset) # 평균 손실 \n",
    "    train_accuracy = 100. * correct / len(train_loader.dataset)\n",
    "    return total_loss, train_accuracy\n",
    "    "
   ],
   "metadata": {
    "collapsed": false,
    "ExecuteTime": {
     "end_time": "2024-03-27T03:14:29.917961700Z",
     "start_time": "2024-03-27T03:14:29.902642Z"
    }
   },
   "id": "e400e8558bcb281f",
   "execution_count": 20
  },
  {
   "cell_type": "code",
   "outputs": [
    {
     "data": {
      "text/plain": "{'training': True,\n '_parameters': OrderedDict(),\n '_buffers': OrderedDict(),\n '_non_persistent_buffers_set': set(),\n '_backward_pre_hooks': OrderedDict(),\n '_backward_hooks': OrderedDict(),\n '_is_full_backward_hook': None,\n '_forward_hooks': OrderedDict(),\n '_forward_hooks_with_kwargs': OrderedDict(),\n '_forward_hooks_always_called': OrderedDict(),\n '_forward_pre_hooks': OrderedDict(),\n '_forward_pre_hooks_with_kwargs': OrderedDict(),\n '_state_dict_hooks': OrderedDict(),\n '_state_dict_pre_hooks': OrderedDict(),\n '_load_state_dict_pre_hooks': OrderedDict(),\n '_load_state_dict_post_hooks': OrderedDict(),\n '_modules': OrderedDict([('features',\n               Sequential(\n                 (0): Conv2d(3, 64, kernel_size=(3, 3), stride=(1, 1), padding=(1, 1))\n                 (1): ReLU(inplace=True)\n                 (2): Conv2d(64, 64, kernel_size=(3, 3), stride=(1, 1), padding=(1, 1))\n                 (3): ReLU(inplace=True)\n                 (4): MaxPool2d(kernel_size=2, stride=2, padding=0, dilation=1, ceil_mode=False)\n                 (5): Conv2d(64, 128, kernel_size=(3, 3), stride=(1, 1), padding=(1, 1))\n                 (6): ReLU(inplace=True)\n                 (7): Conv2d(128, 128, kernel_size=(3, 3), stride=(1, 1), padding=(1, 1))\n                 (8): ReLU(inplace=True)\n                 (9): MaxPool2d(kernel_size=2, stride=2, padding=0, dilation=1, ceil_mode=False)\n                 (10): Conv2d(128, 256, kernel_size=(3, 3), stride=(1, 1), padding=(1, 1))\n                 (11): ReLU(inplace=True)\n                 (12): Conv2d(256, 256, kernel_size=(3, 3), stride=(1, 1), padding=(1, 1))\n                 (13): ReLU(inplace=True)\n                 (14): Conv2d(256, 256, kernel_size=(3, 3), stride=(1, 1), padding=(1, 1))\n                 (15): ReLU(inplace=True)\n                 (16): MaxPool2d(kernel_size=2, stride=2, padding=0, dilation=1, ceil_mode=False)\n                 (17): Conv2d(256, 512, kernel_size=(3, 3), stride=(1, 1), padding=(1, 1))\n                 (18): ReLU(inplace=True)\n                 (19): Conv2d(512, 512, kernel_size=(3, 3), stride=(1, 1), padding=(1, 1))\n                 (20): ReLU(inplace=True)\n                 (21): Conv2d(512, 512, kernel_size=(3, 3), stride=(1, 1), padding=(1, 1))\n                 (22): ReLU(inplace=True)\n                 (23): MaxPool2d(kernel_size=2, stride=2, padding=0, dilation=1, ceil_mode=False)\n                 (24): Conv2d(512, 512, kernel_size=(3, 3), stride=(1, 1), padding=(1, 1))\n                 (25): ReLU(inplace=True)\n                 (26): Conv2d(512, 512, kernel_size=(3, 3), stride=(1, 1), padding=(1, 1))\n                 (27): ReLU(inplace=True)\n                 (28): Conv2d(512, 512, kernel_size=(3, 3), stride=(1, 1), padding=(1, 1))\n                 (29): ReLU(inplace=True)\n                 (30): MaxPool2d(kernel_size=2, stride=2, padding=0, dilation=1, ceil_mode=False)\n               )),\n              ('fc',\n               Sequential(\n                 (0): Linear(in_features=512, out_features=4096, bias=True)\n                 (1): ReLU()\n                 (2): Dropout(p=0.5, inplace=False)\n                 (3): Linear(in_features=4096, out_features=1, bias=True)\n                 (4): Sigmoid()\n               ))]),\n 'num_features': 512}"
     },
     "execution_count": 21,
     "metadata": {},
     "output_type": "execute_result"
    }
   ],
   "source": [
    "model.__dict__"
   ],
   "metadata": {
    "collapsed": false,
    "ExecuteTime": {
     "end_time": "2024-03-27T03:14:29.958230500Z",
     "start_time": "2024-03-27T03:14:29.914755700Z"
    }
   },
   "id": "15d6b98726d29f84",
   "execution_count": 21
  },
  {
   "cell_type": "code",
   "outputs": [],
   "source": [
    "### 검증 validation 진행 함수 \n",
    "def evaluate(model, val_loader):\n",
    "    model.eval()\n",
    "    test_loss = 0\n",
    "    correct = 0\n",
    "\n",
    "    with torch.no_grad():\n",
    "        for image, label in val_loader:\n",
    "            image = image.to(DEVICE)\n",
    "            label = label.to(DEVICE)\n",
    "            label = label.float()\n",
    "            output = model(image)\n",
    "            test_loss += criterion(output, label.unsqueeze(dim = 1)).item()\n",
    "            # print(output.max(1, keepdim = True))\n",
    "            prediction = output.round()  # 이진 분류에서는 반올림하여 0 또는 1로 변환\n",
    "            # print(label)\n",
    "            # print(prediction)\n",
    "            # print(prediction.eq(label.view_as(prediction)).sum().item())\n",
    "            # print()\n",
    "            correct += prediction.eq(label.view_as(prediction)).sum().item()\n",
    "    \n",
    "    test_loss /= len(val_loader.dataset) # 평균 손실 \n",
    "    test_accuracy = 100. * correct / len(val_loader.dataset)\n",
    "    return test_loss, test_accuracy"
   ],
   "metadata": {
    "collapsed": false,
    "ExecuteTime": {
     "end_time": "2024-03-27T03:14:29.960304800Z",
     "start_time": "2024-03-27T03:14:29.933338700Z"
    }
   },
   "id": "f25346fb72290982",
   "execution_count": 22
  },
  {
   "cell_type": "code",
   "outputs": [
    {
     "data": {
      "text/plain": "200"
     },
     "execution_count": 23,
     "metadata": {},
     "output_type": "execute_result"
    }
   ],
   "source": [
    "len(val_DL.dataset)"
   ],
   "metadata": {
    "collapsed": false,
    "ExecuteTime": {
     "end_time": "2024-03-27T03:14:29.960304800Z",
     "start_time": "2024-03-27T03:14:29.943780500Z"
    }
   },
   "id": "74bb673c06ca4446",
   "execution_count": 23
  },
  {
   "cell_type": "markdown",
   "source": [
    "# 학습 진행"
   ],
   "metadata": {
    "collapsed": false
   },
   "id": "1900cdf2f3ffc0a1"
  },
  {
   "cell_type": "code",
   "outputs": [
    {
     "name": "stdout",
     "output_type": "stream",
     "text": [
      "Train Epoch: 1 [0]\tTrain Loss: 0.017663\n",
      "\n",
      "[EPOCH: 1], \tTest Loss: 0.0225, \tTest Accuracy: 85.00 % \n",
      "\n",
      "현재 학습률: 1e-05\n",
      "Train Epoch: 2 [0]\tTrain Loss: 0.025425\n",
      "\n",
      "[EPOCH: 2], \tTest Loss: 0.0227, \tTest Accuracy: 84.00 % \n",
      "\n",
      "현재 학습률: 1e-05\n",
      "Train Epoch: 3 [0]\tTrain Loss: 0.030144\n",
      "\n",
      "[EPOCH: 3], \tTest Loss: 0.0172, \tTest Accuracy: 88.00 % \n",
      "\n",
      "현재 학습률: 1e-05\n",
      "Train Epoch: 4 [0]\tTrain Loss: 0.021153\n",
      "\n",
      "[EPOCH: 4], \tTest Loss: 0.0246, \tTest Accuracy: 83.00 % \n",
      "\n",
      "현재 학습률: 1.0000000000000002e-06\n",
      "Train Epoch: 5 [0]\tTrain Loss: 0.022914\n",
      "\n",
      "[EPOCH: 5], \tTest Loss: 0.0155, \tTest Accuracy: 89.50 % \n",
      "\n",
      "현재 학습률: 1.0000000000000002e-06\n",
      "Train Epoch: 6 [0]\tTrain Loss: 0.012617\n",
      "\n",
      "[EPOCH: 6], \tTest Loss: 0.0195, \tTest Accuracy: 87.50 % \n",
      "\n",
      "현재 학습률: 1.0000000000000002e-06\n",
      "Train Epoch: 7 [0]\tTrain Loss: 0.025307\n",
      "\n",
      "[EPOCH: 7], \tTest Loss: 0.0214, \tTest Accuracy: 85.50 % \n",
      "\n",
      "현재 학습률: 1.0000000000000002e-06\n",
      "Train Epoch: 8 [0]\tTrain Loss: 0.048299\n",
      "\n",
      "[EPOCH: 8], \tTest Loss: 0.0167, \tTest Accuracy: 88.00 % \n",
      "\n",
      "현재 학습률: 1.0000000000000002e-07\n",
      "Train Epoch: 9 [0]\tTrain Loss: 0.014801\n",
      "\n",
      "[EPOCH: 9], \tTest Loss: 0.0310, \tTest Accuracy: 80.00 % \n",
      "\n",
      "현재 학습률: 1.0000000000000002e-07\n",
      "Train Epoch: 10 [0]\tTrain Loss: 0.022835\n",
      "\n",
      "[EPOCH: 10], \tTest Loss: 0.0324, \tTest Accuracy: 85.00 % \n",
      "\n",
      "현재 학습률: 1.0000000000000002e-07\n",
      "Train Epoch: 11 [0]\tTrain Loss: 0.025035\n",
      "\n",
      "[EPOCH: 11], \tTest Loss: 0.0161, \tTest Accuracy: 89.00 % \n",
      "\n",
      "현재 학습률: 1.0000000000000002e-07\n",
      "Train Epoch: 12 [0]\tTrain Loss: 0.021158\n",
      "\n",
      "[EPOCH: 12], \tTest Loss: 0.0250, \tTest Accuracy: 83.50 % \n",
      "\n",
      "현재 학습률: 1.0000000000000004e-08\n",
      "Train Epoch: 13 [0]\tTrain Loss: 0.028540\n",
      "\n",
      "[EPOCH: 13], \tTest Loss: 0.0190, \tTest Accuracy: 87.50 % \n",
      "\n",
      "현재 학습률: 1.0000000000000004e-08\n",
      "Train Epoch: 14 [0]\tTrain Loss: 0.011297\n",
      "\n",
      "[EPOCH: 14], \tTest Loss: 0.0159, \tTest Accuracy: 89.00 % \n",
      "\n",
      "현재 학습률: 1.0000000000000004e-08\n",
      "Train Epoch: 15 [0]\tTrain Loss: 0.056804\n",
      "\n",
      "[EPOCH: 15], \tTest Loss: 0.0203, \tTest Accuracy: 86.00 % \n",
      "\n",
      "조기 종료: 검증 손실이 이전에 관측된 최적의 손실보다 높아짐\n"
     ]
    }
   ],
   "source": [
    "# CNN 학습\n",
    "EPOCHS = 100\n",
    "\n",
    "# 최고 성능 모델의 가중치 저장\n",
    "best_model_weights = None\n",
    "best_test_loss = np.inf\n",
    "patience = 10  # 조기 종료를 위한 참을성 값 설정\n",
    "counter = 0  # 성능이 향상되지 않는 epoch 카운터\n",
    "\n",
    "train_loss_acc = [[],[]]\n",
    "val_loss_acc = [[],[]]\n",
    "\n",
    "for epoch in range(1, EPOCHS + 1):\n",
    "    \n",
    "    train_loss, train_acc = train(epoch, model, train_DL, optimizer, log_interval=200)\n",
    "    train_loss_acc[0].append(train_loss)\n",
    "    train_loss_acc[1].append(train_acc)\n",
    "    \n",
    "    \n",
    "    test_loss, test_accuracy = evaluate(model, val_DL)\n",
    "    print(f\"\\n[EPOCH: {epoch}], \\tTest Loss: {test_loss:.4f}, \\tTest Accuracy: {test_accuracy:.2f} % \\n\")\n",
    "    val_loss_acc[0].append(test_loss)\n",
    "    val_loss_acc[1].append(test_accuracy)\n",
    "    \n",
    "    # 조기 종료 검사\n",
    "    if test_loss < best_test_loss:\n",
    "        best_test_loss = test_loss\n",
    "        best_model_weights = model.state_dict()  # 최고 성능 모델의 가중치 저장\n",
    "        counter = 0  # 카운터 초기화\n",
    "    else:\n",
    "        counter += 1  # 성능이 향상되지 않음\n",
    "        \n",
    "        if counter >= patience:\n",
    "            print(\"조기 종료: 검증 손실이 이전에 관측된 최적의 손실보다 높아짐\")\n",
    "            break\n",
    "    current_lr = optimizer.param_groups[0]['lr']\n",
    "    print(\"현재 학습률:\", current_lr)    \n",
    "    scheduler.step(test_loss)\n",
    "            \n",
    "# 최고 성능 모델의 가중치로 모델을 업데이트\n",
    "if best_model_weights is not None:\n",
    "    model.load_state_dict(best_model_weights)"
   ],
   "metadata": {
    "collapsed": false,
    "ExecuteTime": {
     "end_time": "2024-03-27T03:27:00.902580200Z",
     "start_time": "2024-03-27T03:20:27.753367Z"
    }
   },
   "id": "a699bfc38a1f98c2",
   "execution_count": 29
  },
  {
   "cell_type": "code",
   "outputs": [
    {
     "data": {
      "text/plain": "<Figure size 1000x500 with 1 Axes>",
      "image/png": "[encoded data removed]"
     },
     "metadata": {},
     "output_type": "display_data"
    },
    {
     "data": {
      "text/plain": "<Figure size 1000x500 with 1 Axes>",
      "image/png": "[encoded data removed]"
     },
     "metadata": {},
     "output_type": "display_data"
    }
   ],
   "source": [
    "# Loss 그래프 그리기\n",
    "plt.figure(figsize=(10, 5))\n",
    "plt.plot(train_loss_acc[0], label='Train Loss')\n",
    "plt.plot(val_loss_acc[0], label='Val Loss')\n",
    "plt.xlabel('Epoch')\n",
    "plt.ylabel('Loss')\n",
    "plt.title('Training and Testing Loss')\n",
    "plt.legend()\n",
    "plt.show()\n",
    "\n",
    "# Accuracy 그래프 그리기\n",
    "plt.figure(figsize=(10, 5))\n",
    "plt.plot(train_loss_acc[1], label='Train Accuracy')\n",
    "plt.plot(val_loss_acc[1], label='Val Accuracy')\n",
    "plt.xlabel('Epoch')\n",
    "plt.ylabel('Accuracy')\n",
    "plt.title('Training and Testing Accuracy')\n",
    "plt.legend()\n",
    "plt.show()"
   ],
   "metadata": {
    "collapsed": false,
    "ExecuteTime": {
     "end_time": "2024-03-27T03:19:43.582385600Z",
     "start_time": "2024-03-27T03:19:42.998571300Z"
    }
   },
   "id": "be83aa75a7732c87",
   "execution_count": 25
  },
  {
   "cell_type": "code",
   "outputs": [
    {
     "data": {
      "text/plain": "<Figure size 1000x500 with 1 Axes>",
      "image/png": "[encoded data removed]"
     },
     "metadata": {},
     "output_type": "display_data"
    },
    {
     "data": {
      "text/plain": "<Figure size 1000x500 with 1 Axes>",
      "image/png": "[encoded data removed]"
     },
     "metadata": {},
     "output_type": "display_data"
    }
   ],
   "source": [
    "# Loss 그래프 그리기\n",
    "plt.figure(figsize=(10, 5))\n",
    "plt.plot(train_loss_acc[0], label='Train Loss')\n",
    "plt.plot(val_loss_acc[0], label='Val Loss')\n",
    "plt.xlabel('Epoch')\n",
    "plt.ylabel('Loss')\n",
    "plt.title('Loss')\n",
    "plt.ylim(0, 0.05)\n",
    "plt.grid()\n",
    "plt.legend()\n",
    "plt.show()\n",
    "\n",
    "# Accuracy 그래프 그리기\n",
    "plt.figure(figsize=(10, 5))\n",
    "plt.plot(train_loss_acc[1], label='Train Accuracy')\n",
    "plt.plot(val_loss_acc[1], label='Val Accuracy')\n",
    "plt.xlabel('Epoch')\n",
    "plt.ylabel('Accuracy')\n",
    "plt.title('Accuracy')\n",
    "plt.legend()\n",
    "plt.grid()\n",
    "plt.ylim(50, 100)\n",
    "plt.show()"
   ],
   "metadata": {
    "collapsed": false,
    "ExecuteTime": {
     "end_time": "2024-03-27T03:19:43.968410400Z",
     "start_time": "2024-03-27T03:19:43.589692900Z"
    }
   },
   "id": "c39e32162de1a334",
   "execution_count": 26
  },
  {
   "cell_type": "markdown",
   "source": [
    "# test data predict"
   ],
   "metadata": {
    "collapsed": false
   },
   "id": "d1c74de496c90340"
  },
  {
   "cell_type": "code",
   "outputs": [
    {
     "data": {
      "text/plain": "84.93975903614458"
     },
     "execution_count": 30,
     "metadata": {},
     "output_type": "execute_result"
    }
   ],
   "source": [
    "def predict(model, val_loader):\n",
    "    model.eval()\n",
    "    correct = 0\n",
    "\n",
    "    with torch.no_grad():\n",
    "        for image, label in val_loader:\n",
    "            image = image.to(DEVICE)\n",
    "            label = label.to(DEVICE)\n",
    "            label = label.float()\n",
    "            output = model(image)\n",
    "            # print(output.max(1, keepdim = True))\n",
    "            prediction = output.round()  # 이진 분류에서는 반올림하여 0 또는 1로 변환\n",
    "            \n",
    "            correct += prediction.eq(label.view_as(prediction)).sum().item()\n",
    "    \n",
    "    test_accuracy = 100. * correct / len(val_loader.dataset)\n",
    "    return test_accuracy\n",
    "\n",
    "predict(model, test_DL)"
   ],
   "metadata": {
    "collapsed": false,
    "ExecuteTime": {
     "end_time": "2024-03-27T03:36:38.921782Z",
     "start_time": "2024-03-27T03:36:36.957418200Z"
    }
   },
   "id": "b919dcec44235c18",
   "execution_count": 30
  },
  {
   "cell_type": "code",
   "outputs": [],
   "source": [
    "# torch.save(model.state_dict(), 'model_VGG16.pth')"
   ],
   "metadata": {
    "collapsed": false,
    "ExecuteTime": {
     "end_time": "2024-03-27T03:19:46.298120800Z",
     "start_time": "2024-03-27T03:19:46.256485100Z"
    }
   },
   "id": "84d4a6239ba3c9c7",
   "execution_count": 28
  }
 ],
 "metadata": {
  "kernelspec": {
   "display_name": "Python 3",
   "language": "python",
   "name": "python3"
  },
  "language_info": {
   "codemirror_mode": {
    "name": "ipython",
    "version": 2
   },
   "file_extension": ".py",
   "mimetype": "text/x-python",
   "name": "python",
   "nbconvert_exporter": "python",
   "pygments_lexer": "ipython2",
   "version": "2.7.6"
  }
 },
 "nbformat": 4,
 "nbformat_minor": 5
}
