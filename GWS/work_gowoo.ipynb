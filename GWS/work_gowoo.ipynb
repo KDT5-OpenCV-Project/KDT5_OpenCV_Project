{
 "cells": [
  {
   "cell_type": "code",
   "execution_count": 1,
   "id": "initial_id",
   "metadata": {
    "collapsed": true,
    "ExecuteTime": {
     "end_time": "2024-03-27T06:47:39.090046700Z",
     "start_time": "2024-03-27T06:47:36.071838400Z"
    }
   },
   "outputs": [],
   "source": [
    "### 모듈 로딩\n",
    "from PIL import Image\n",
    "import torchvision.transforms as transforms \n",
    "from torchvision.datasets import ImageFolder \n",
    "### ===> Module Import\n",
    "import numpy as np\n",
    "import matplotlib.pyplot as plt\n",
    "import torch\n",
    "import torch.nn as nn\n",
    "import torch.nn.functional as F\n",
    "import pandas as pd\n",
    "from torchvision import transforms, datasets\n",
    "from torch.utils.data import Dataset,DataLoader,WeightedRandomSampler\n",
    "import torch.optim as optim"
   ]
  },
  {
   "cell_type": "code",
   "outputs": [],
   "source": [
    "import os\n",
    "import random\n",
    "from shutil import copy2"
   ],
   "metadata": {
    "collapsed": false,
    "ExecuteTime": {
     "end_time": "2024-03-27T06:47:39.105681200Z",
     "start_time": "2024-03-27T06:47:39.091089400Z"
    }
   },
   "id": "229f5dfd9185a015",
   "execution_count": 2
  },
  {
   "cell_type": "code",
   "outputs": [],
   "source": [
    "def make_weights(labels, nclasses):\n",
    "    labels = np.array(labels)  #전체 클래스 받아서 어레이로 받고\n",
    "    weight_list = []\n",
    "\n",
    "    for cls in range(nclasses):\n",
    "        idx = np.where(labels == cls)[0]\n",
    "        count = len(idx)\n",
    "        weight = 1 / count   #역수 취하기\n",
    "        weights = [weight] * count  #\n",
    "        weight_list += weights  #리스트로 바꾸어서 리턴\n",
    "#전체 받은 샘플에 대해서 그 각각의 가중치를 적용할 수 있다. \n",
    "    return weight_list"
   ],
   "metadata": {
    "collapsed": false,
    "ExecuteTime": {
     "end_time": "2024-03-27T06:47:39.131651300Z",
     "start_time": "2024-03-27T06:47:39.108836200Z"
    }
   },
   "id": "a6a10ac8fd930de4",
   "execution_count": 3
  },
  {
   "cell_type": "markdown",
   "source": [
    "파일 전처리 함수 만들기"
   ],
   "metadata": {
    "collapsed": false
   },
   "id": "7a71b59557505227"
  },
  {
   "cell_type": "code",
   "outputs": [],
   "source": [
    "from torchvision.datasets import ImageFolder \n",
    "\n",
    "img_root = \"./pizza_not_pizza/\" # 해당 경로 내에 있는 파일명이 곧 label이 되는 것\n",
    "train_root=\"./pizza_not_pizza/train\"\n",
    "test_root=\"./pizza_not_pizza/test\"\n",
    "validation_root=\"./pizza_not_pizza/validation\"\n",
    "\n",
    "\n",
    "\n",
    "mean = [0.485, 0.456, 0.406]\n",
    "std = [0.229, 0.224, 0.225]\n",
    "\n",
    "preprocessing = transforms.Compose([\n",
    "    transforms.Resize((50,50), interpolation=transforms.InterpolationMode.BILINEAR),\n",
    "    transforms.ToTensor(),  \n",
    "    transforms.Normalize(mean=mean, std=std) # 4. normalized\n",
    "])\n",
    "\n",
    "imgDS = ImageFolder(root=img_root, transform=preprocessing)\n",
    "validDS = ImageFolder(root=validation_root, transform=preprocessing)\n",
    "testDS = ImageFolder(root=test_root, transform=preprocessing)\n",
    "trainDS = ImageFolder(root=train_root, transform=preprocessing)\n"
   ],
   "metadata": {
    "collapsed": false,
    "ExecuteTime": {
     "end_time": "2024-03-27T06:47:39.155172200Z",
     "start_time": "2024-03-27T06:47:39.123325700Z"
    }
   },
   "id": "5c590809b2d53f45",
   "execution_count": 4
  },
  {
   "cell_type": "markdown",
   "source": [
    "이미지 ds 클래스 확인, 클래스를 idx로 "
   ],
   "metadata": {
    "collapsed": false
   },
   "id": "2d3f78f1d7464102"
  },
  {
   "cell_type": "code",
   "outputs": [
    {
     "data": {
      "text/plain": "(['not_pizza', 'pizza'], {'not_pizza': 0, 'pizza': 1})"
     },
     "execution_count": 5,
     "metadata": {},
     "output_type": "execute_result"
    }
   ],
   "source": [
    "validDS.classes,validDS.class_to_idx"
   ],
   "metadata": {
    "collapsed": false,
    "ExecuteTime": {
     "end_time": "2024-03-27T06:47:39.176051300Z",
     "start_time": "2024-03-27T06:47:39.156228600Z"
    }
   },
   "id": "e5783ccdcc0255df",
   "execution_count": 5
  },
  {
   "cell_type": "code",
   "outputs": [],
   "source": [
    "weights = make_weights(imgDS.targets, len(imgDS.classes))\n",
    "weights = torch.DoubleTensor(weights)"
   ],
   "metadata": {
    "collapsed": false,
    "ExecuteTime": {
     "end_time": "2024-03-27T06:47:39.201127800Z",
     "start_time": "2024-03-27T06:47:39.170807300Z"
    }
   },
   "id": "7425e159360904a6",
   "execution_count": 6
  },
  {
   "cell_type": "markdown",
   "source": [
    "이미지 샘플러"
   ],
   "metadata": {
    "collapsed": false
   },
   "id": "2064f674c194a6e9"
  },
  {
   "cell_type": "code",
   "outputs": [],
   "source": [
    "img_sampler = WeightedRandomSampler(weights, len(weights))"
   ],
   "metadata": {
    "collapsed": false,
    "ExecuteTime": {
     "end_time": "2024-03-27T06:47:39.202189500Z",
     "start_time": "2024-03-27T06:47:39.185436Z"
    }
   },
   "id": "34c7aa0d4758d190",
   "execution_count": 7
  },
  {
   "cell_type": "code",
   "outputs": [
    {
     "name": "stderr",
     "output_type": "stream",
     "text": [
      "Clipping input data to the valid range for imshow with RGB data ([0..1] for floats or [0..255] for integers).\n"
     ]
    },
    {
     "data": {
      "text/plain": "<matplotlib.image.AxesImage at 0x2514e4c1a60>"
     },
     "execution_count": 8,
     "metadata": {},
     "output_type": "execute_result"
    },
    {
     "data": {
      "text/plain": "<Figure size 640x480 with 1 Axes>",
      "image/png": "[encoded data removed]"
     },
     "metadata": {},
     "output_type": "display_data"
    }
   ],
   "source": [
    "plt.imshow(imgDS[400][0].permute(1,2,0))"
   ],
   "metadata": {
    "collapsed": false,
    "ExecuteTime": {
     "end_time": "2024-03-27T06:47:39.362216800Z",
     "start_time": "2024-03-27T06:47:39.202189500Z"
    }
   },
   "id": "789e61889a70a45c",
   "execution_count": 8
  },
  {
   "cell_type": "code",
   "outputs": [],
   "source": [
    "batch_size = 32\n",
    "trainDL = DataLoader(\n",
    "    trainDS, batch_size=batch_size, drop_last=True,shuffle=True\n",
    ")\n",
    "validDL = DataLoader(\n",
    "    validDS, batch_size=batch_size, drop_last=True,shuffle=True\n",
    ")\n",
    "\n",
    "testDL = DataLoader(\n",
    "    testDS, batch_size=batch_size, drop_last=True,shuffle=True\n",
    ")"
   ],
   "metadata": {
    "collapsed": false,
    "ExecuteTime": {
     "end_time": "2024-03-27T06:47:39.372558900Z",
     "start_time": "2024-03-27T06:47:39.358036800Z"
    }
   },
   "id": "cc4a702ff489ffb6",
   "execution_count": 9
  },
  {
   "cell_type": "markdown",
   "source": [
    "[ 이미지랑 라벨 쪽 형태 보기]"
   ],
   "metadata": {
    "collapsed": false
   },
   "id": "776d69649e0bab1e"
  },
  {
   "cell_type": "code",
   "outputs": [
    {
     "name": "stdout",
     "output_type": "stream",
     "text": [
      "Using PyTorch version: 2.2.0  Device: cpu\n"
     ]
    }
   ],
   "source": [
    "### ===> 딥러닝 모델을 설계할 때 활용하는 장비 확인\n",
    "if torch.cuda.is_available():\n",
    "    DEVICE = torch.device('cuda')\n",
    "else:\n",
    "    DEVICE = torch.device('cpu')\n",
    "    \n",
    "print('Using PyTorch version:', torch.__version__, ' Device:', DEVICE)"
   ],
   "metadata": {
    "collapsed": false,
    "ExecuteTime": {
     "end_time": "2024-03-27T06:47:39.391183800Z",
     "start_time": "2024-03-27T06:47:39.373633400Z"
    }
   },
   "id": "41d31fc160b5242b",
   "execution_count": 10
  },
  {
   "cell_type": "code",
   "outputs": [],
   "source": [],
   "metadata": {
    "collapsed": false,
    "ExecuteTime": {
     "end_time": "2024-03-27T06:47:39.421344600Z",
     "start_time": "2024-03-27T06:47:39.387064200Z"
    }
   },
   "id": "7ff28ef028679ac1",
   "execution_count": 10
  },
  {
   "cell_type": "code",
   "outputs": [
    {
     "data": {
      "text/plain": "(1966, 40.0, torch.utils.data.dataloader.DataLoader)"
     },
     "execution_count": 11,
     "metadata": {},
     "output_type": "execute_result"
    }
   ],
   "source": [
    "len(imgDS), len(trainDS)/40, type(trainDL) "
   ],
   "metadata": {
    "collapsed": false,
    "ExecuteTime": {
     "end_time": "2024-03-27T06:47:39.422404400Z",
     "start_time": "2024-03-27T06:47:39.404766Z"
    }
   },
   "id": "a5d60b8b59348fb3",
   "execution_count": 11
  },
  {
   "cell_type": "code",
   "outputs": [
    {
     "name": "stdout",
     "output_type": "stream",
     "text": [
      "X_train: torch.Size([32, 3, 50, 50]) type: torch.FloatTensor\n",
      "y_train: torch.Size([32]) type: torch.LongTensor\n",
      "X_train: torch.Size([32, 3, 50, 50]) type: torch.FloatTensor\n",
      "y_train: torch.Size([32]) type: torch.LongTensor\n",
      "X_train: torch.Size([32, 3, 50, 50]) type: torch.FloatTensor\n",
      "y_train: torch.Size([32]) type: torch.LongTensor\n",
      "X_train: torch.Size([32, 3, 50, 50]) type: torch.FloatTensor\n",
      "y_train: torch.Size([32]) type: torch.LongTensor\n",
      "X_train: torch.Size([32, 3, 50, 50]) type: torch.FloatTensor\n",
      "y_train: torch.Size([32]) type: torch.LongTensor\n",
      "X_train: torch.Size([32, 3, 50, 50]) type: torch.FloatTensor\n",
      "y_train: torch.Size([32]) type: torch.LongTensor\n",
      "X_train: torch.Size([32, 3, 50, 50]) type: torch.FloatTensor\n",
      "y_train: torch.Size([32]) type: torch.LongTensor\n",
      "X_train: torch.Size([32, 3, 50, 50]) type: torch.FloatTensor\n",
      "y_train: torch.Size([32]) type: torch.LongTensor\n",
      "X_train: torch.Size([32, 3, 50, 50]) type: torch.FloatTensor\n",
      "y_train: torch.Size([32]) type: torch.LongTensor\n",
      "X_train: torch.Size([32, 3, 50, 50]) type: torch.FloatTensor\n",
      "y_train: torch.Size([32]) type: torch.LongTensor\n",
      "X_train: torch.Size([32, 3, 50, 50]) type: torch.FloatTensor\n",
      "y_train: torch.Size([32]) type: torch.LongTensor\n",
      "X_train: torch.Size([32, 3, 50, 50]) type: torch.FloatTensor\n",
      "y_train: torch.Size([32]) type: torch.LongTensor\n",
      "X_train: torch.Size([32, 3, 50, 50]) type: torch.FloatTensor\n",
      "y_train: torch.Size([32]) type: torch.LongTensor\n",
      "X_train: torch.Size([32, 3, 50, 50]) type: torch.FloatTensor\n",
      "y_train: torch.Size([32]) type: torch.LongTensor\n",
      "X_train: torch.Size([32, 3, 50, 50]) type: torch.FloatTensor\n",
      "y_train: torch.Size([32]) type: torch.LongTensor\n",
      "X_train: torch.Size([32, 3, 50, 50]) type: torch.FloatTensor\n",
      "y_train: torch.Size([32]) type: torch.LongTensor\n",
      "X_train: torch.Size([32, 3, 50, 50]) type: torch.FloatTensor\n",
      "y_train: torch.Size([32]) type: torch.LongTensor\n",
      "X_train: torch.Size([32, 3, 50, 50]) type: torch.FloatTensor\n",
      "y_train: torch.Size([32]) type: torch.LongTensor\n",
      "X_train: torch.Size([32, 3, 50, 50]) type: torch.FloatTensor\n",
      "y_train: torch.Size([32]) type: torch.LongTensor\n",
      "X_train: torch.Size([32, 3, 50, 50]) type: torch.FloatTensor\n",
      "y_train: torch.Size([32]) type: torch.LongTensor\n",
      "X_train: torch.Size([32, 3, 50, 50]) type: torch.FloatTensor\n",
      "y_train: torch.Size([32]) type: torch.LongTensor\n",
      "X_train: torch.Size([32, 3, 50, 50]) type: torch.FloatTensor\n",
      "y_train: torch.Size([32]) type: torch.LongTensor\n",
      "X_train: torch.Size([32, 3, 50, 50]) type: torch.FloatTensor\n",
      "y_train: torch.Size([32]) type: torch.LongTensor\n",
      "X_train: torch.Size([32, 3, 50, 50]) type: torch.FloatTensor\n",
      "y_train: torch.Size([32]) type: torch.LongTensor\n",
      "X_train: torch.Size([32, 3, 50, 50]) type: torch.FloatTensor\n",
      "y_train: torch.Size([32]) type: torch.LongTensor\n",
      "X_train: torch.Size([32, 3, 50, 50]) type: torch.FloatTensor\n",
      "y_train: torch.Size([32]) type: torch.LongTensor\n",
      "X_train: torch.Size([32, 3, 50, 50]) type: torch.FloatTensor\n",
      "y_train: torch.Size([32]) type: torch.LongTensor\n",
      "X_train: torch.Size([32, 3, 50, 50]) type: torch.FloatTensor\n",
      "y_train: torch.Size([32]) type: torch.LongTensor\n",
      "X_train: torch.Size([32, 3, 50, 50]) type: torch.FloatTensor\n",
      "y_train: torch.Size([32]) type: torch.LongTensor\n",
      "X_train: torch.Size([32, 3, 50, 50]) type: torch.FloatTensor\n",
      "y_train: torch.Size([32]) type: torch.LongTensor\n",
      "X_train: torch.Size([32, 3, 50, 50]) type: torch.FloatTensor\n",
      "y_train: torch.Size([32]) type: torch.LongTensor\n",
      "X_train: torch.Size([32, 3, 50, 50]) type: torch.FloatTensor\n",
      "y_train: torch.Size([32]) type: torch.LongTensor\n",
      "X_train: torch.Size([32, 3, 50, 50]) type: torch.FloatTensor\n",
      "y_train: torch.Size([32]) type: torch.LongTensor\n",
      "X_train: torch.Size([32, 3, 50, 50]) type: torch.FloatTensor\n",
      "y_train: torch.Size([32]) type: torch.LongTensor\n",
      "X_train: torch.Size([32, 3, 50, 50]) type: torch.FloatTensor\n",
      "y_train: torch.Size([32]) type: torch.LongTensor\n",
      "X_train: torch.Size([32, 3, 50, 50]) type: torch.FloatTensor\n",
      "y_train: torch.Size([32]) type: torch.LongTensor\n",
      "X_train: torch.Size([32, 3, 50, 50]) type: torch.FloatTensor\n",
      "y_train: torch.Size([32]) type: torch.LongTensor\n",
      "X_train: torch.Size([32, 3, 50, 50]) type: torch.FloatTensor\n",
      "y_train: torch.Size([32]) type: torch.LongTensor\n",
      "X_train: torch.Size([32, 3, 50, 50]) type: torch.FloatTensor\n",
      "y_train: torch.Size([32]) type: torch.LongTensor\n",
      "X_train: torch.Size([32, 3, 50, 50]) type: torch.FloatTensor\n",
      "y_train: torch.Size([32]) type: torch.LongTensor\n",
      "X_train: torch.Size([32, 3, 50, 50]) type: torch.FloatTensor\n",
      "y_train: torch.Size([32]) type: torch.LongTensor\n",
      "X_train: torch.Size([32, 3, 50, 50]) type: torch.FloatTensor\n",
      "y_train: torch.Size([32]) type: torch.LongTensor\n",
      "X_train: torch.Size([32, 3, 50, 50]) type: torch.FloatTensor\n",
      "y_train: torch.Size([32]) type: torch.LongTensor\n",
      "X_train: torch.Size([32, 3, 50, 50]) type: torch.FloatTensor\n",
      "y_train: torch.Size([32]) type: torch.LongTensor\n",
      "X_train: torch.Size([32, 3, 50, 50]) type: torch.FloatTensor\n",
      "y_train: torch.Size([32]) type: torch.LongTensor\n",
      "X_train: torch.Size([32, 3, 50, 50]) type: torch.FloatTensor\n",
      "y_train: torch.Size([32]) type: torch.LongTensor\n",
      "X_train: torch.Size([32, 3, 50, 50]) type: torch.FloatTensor\n",
      "y_train: torch.Size([32]) type: torch.LongTensor\n",
      "X_train: torch.Size([32, 3, 50, 50]) type: torch.FloatTensor\n",
      "y_train: torch.Size([32]) type: torch.LongTensor\n",
      "X_train: torch.Size([32, 3, 50, 50]) type: torch.FloatTensor\n",
      "y_train: torch.Size([32]) type: torch.LongTensor\n",
      "X_train: torch.Size([32, 3, 50, 50]) type: torch.FloatTensor\n",
      "y_train: torch.Size([32]) type: torch.LongTensor\n"
     ]
    }
   ],
   "source": [
    "### ===>  데이터 확인하기 (1)\n",
    "### X_train : torch.Size([32, 3, 32, 32]) [배치사이즈, 채널, 높이, 너비]\n",
    "### Y_train : torch.Size([32]) [배치사이즈] 즉, 32개 이미지에 대한 라벨\n",
    "for (X_train, y_train) in trainDL:\n",
    "    print('X_train:', X_train.size(), 'type:', X_train.type())\n",
    "    print('y_train:', y_train.size(), 'type:', y_train.type())\n",
    "    "
   ],
   "metadata": {
    "collapsed": false,
    "ExecuteTime": {
     "end_time": "2024-03-27T06:47:44.460848500Z",
     "start_time": "2024-03-27T06:47:39.420346Z"
    }
   },
   "id": "20367458bfae61be",
   "execution_count": 12
  },
  {
   "cell_type": "code",
   "outputs": [],
   "source": [
    "class CNN(nn.Module):\n",
    "    def __init__(self):\n",
    "        super(CNN, self).__init__() \n",
    "        self.conv1 = nn.Conv2d(in_channels =3, out_channels = 8, kernel_size = 3, padding = 1) \n",
    "        self.conv2 = nn.Conv2d(in_channels = 8, out_channels = 16, kernel_size = 3, padding = 1)\n",
    "        \n",
    "        self.pool = nn.MaxPool2d(kernel_size = 2, stride = 2)\n",
    "        self.fc1 = nn.Linear(12*12*16, 64)\n",
    "        self.fc2 = nn.Linear(64, 32)\n",
    "        self.fc3 = nn.Linear(32, 2) \n",
    "        \n",
    "    def forward(self, x):\n",
    "        x = self.conv1(x) \n",
    "        x = F.relu(x)\n",
    "        x = self.pool(x) \n",
    "        x = self.conv2(x) \n",
    "        x = F.relu(x)\n",
    "        x = self.pool(x) \n",
    "        \n",
    "        x = x.view(-1, 12*12*16)\n",
    "        x = self.fc1(x)\n",
    "        x = F.relu(x)\n",
    "        x = self.fc2(x)\n",
    "        x = F.relu(x)\n",
    "        x = self.fc3(x)\n",
    "        return x"
   ],
   "metadata": {
    "collapsed": false,
    "ExecuteTime": {
     "end_time": "2024-03-27T06:47:44.477074800Z",
     "start_time": "2024-03-27T06:47:44.462557300Z"
    }
   },
   "id": "7965546316b19332",
   "execution_count": 13
  },
  {
   "cell_type": "code",
   "outputs": [
    {
     "name": "stdout",
     "output_type": "stream",
     "text": [
      "CNN(\n",
      "  (conv1): Conv2d(3, 8, kernel_size=(3, 3), stride=(1, 1), padding=(1, 1))\n",
      "  (conv2): Conv2d(8, 16, kernel_size=(3, 3), stride=(1, 1), padding=(1, 1))\n",
      "  (pool): MaxPool2d(kernel_size=2, stride=2, padding=0, dilation=1, ceil_mode=False)\n",
      "  (fc1): Linear(in_features=2304, out_features=64, bias=True)\n",
      "  (fc2): Linear(in_features=64, out_features=32, bias=True)\n",
      "  (fc3): Linear(in_features=32, out_features=2, bias=True)\n",
      ")\n"
     ]
    }
   ],
   "source": [
    "### ===> Optimizer, Objective Function 설정\n",
    "model = CNN().to(DEVICE)\n",
    "\n",
    "optimizer = torch.optim.AdamW(model.parameters(), lr = 0.0001) #epoch마다 학습률을 0.001씩 줄임\n",
    "\n",
    "criterion = nn.CrossEntropyLoss() \n",
    "print(model)"
   ],
   "metadata": {
    "collapsed": false,
    "ExecuteTime": {
     "end_time": "2024-03-27T06:47:44.496862900Z",
     "start_time": "2024-03-27T06:47:44.475011300Z"
    }
   },
   "id": "728581ad6554fb32",
   "execution_count": 14
  },
  {
   "cell_type": "code",
   "outputs": [],
   "source": [
    "# CNN 모델 학습 진행 함수\n",
    "def train(epoch, model, train_loader, optimizer, log_interval):\n",
    "    model.train()\n",
    "    for batch_idx, (image, label) in enumerate(train_loader):\n",
    "        image = image.to(DEVICE)\n",
    "        label = label.to(DEVICE)\n",
    "           \n",
    "        output = model(image)\n",
    "        loss = criterion(output, label)\n",
    "        \n",
    "        optimizer.zero_grad()\n",
    "        loss.backward()\n",
    "        optimizer.step()\n",
    "\n",
    "        if batch_idx % log_interval == 0:\n",
    "            print(f\"Train Epoch: {epoch} [{batch_idx}]\\tTrain Loss: {loss.item():.6f}\")"
   ],
   "metadata": {
    "collapsed": false,
    "ExecuteTime": {
     "end_time": "2024-03-27T06:47:44.519647500Z",
     "start_time": "2024-03-27T06:47:44.491605300Z"
    }
   },
   "id": "e0239a6049afda42",
   "execution_count": 15
  },
  {
   "cell_type": "code",
   "outputs": [],
   "source": [
    "### 검증 validation 진행 함수 \n",
    "def evaluate(model, test_loader):\n",
    "    model.eval()\n",
    "    test_loss = 0\n",
    "    correct = 0\n",
    "\n",
    "    with torch.no_grad():\n",
    "        for image, label in test_loader:\n",
    "            # print(image, label)\n",
    "            image = image.to(DEVICE)\n",
    "            label = label.to(DEVICE)\n",
    "            \n",
    "            output = model(image)\n",
    "            test_loss += criterion(output, label).item()\n",
    "            prediction = output.max(1, keepdim = True)[1]\n",
    "            correct += prediction.eq(label.view_as(prediction)).sum().item()\n",
    "    \n",
    "    test_loss /= len(test_loader.dataset)\n",
    "    test_accuracy = 100. * correct / len(test_loader.dataset)\n",
    "    return test_loss, test_accuracy"
   ],
   "metadata": {
    "collapsed": false,
    "ExecuteTime": {
     "end_time": "2024-03-27T06:47:44.520645600Z",
     "start_time": "2024-03-27T06:47:44.507238600Z"
    }
   },
   "id": "b15bd87a855dba85",
   "execution_count": 16
  },
  {
   "cell_type": "code",
   "outputs": [
    {
     "name": "stdout",
     "output_type": "stream",
     "text": [
      "Train Epoch: 1 [0]\tTrain Loss: 0.683422\n",
      "\n",
      "[EPOCH: 1], \tTest Loss: 0.0200, \tTest Accuracy: 62.65 % \n",
      "\n",
      "Train Epoch: 2 [0]\tTrain Loss: 0.645090\n",
      "\n",
      "[EPOCH: 2], \tTest Loss: 0.0188, \tTest Accuracy: 65.66 % \n",
      "\n",
      "Train Epoch: 3 [0]\tTrain Loss: 0.637201\n",
      "\n",
      "[EPOCH: 3], \tTest Loss: 0.0183, \tTest Accuracy: 68.07 % \n",
      "\n",
      "Train Epoch: 4 [0]\tTrain Loss: 0.571014\n",
      "\n",
      "[EPOCH: 4], \tTest Loss: 0.0179, \tTest Accuracy: 68.07 % \n",
      "\n",
      "Train Epoch: 5 [0]\tTrain Loss: 0.662011\n",
      "\n",
      "[EPOCH: 5], \tTest Loss: 0.0174, \tTest Accuracy: 71.08 % \n",
      "\n",
      "Train Epoch: 6 [0]\tTrain Loss: 0.541860\n",
      "\n",
      "[EPOCH: 6], \tTest Loss: 0.0174, \tTest Accuracy: 69.88 % \n",
      "\n",
      "Train Epoch: 7 [0]\tTrain Loss: 0.611150\n",
      "\n",
      "[EPOCH: 7], \tTest Loss: 0.0182, \tTest Accuracy: 69.28 % \n",
      "\n",
      "Train Epoch: 8 [0]\tTrain Loss: 0.490077\n",
      "\n",
      "[EPOCH: 8], \tTest Loss: 0.0179, \tTest Accuracy: 67.47 % \n",
      "\n",
      "Train Epoch: 9 [0]\tTrain Loss: 0.463202\n",
      "\n",
      "[EPOCH: 9], \tTest Loss: 0.0176, \tTest Accuracy: 68.67 % \n",
      "\n",
      "Train Epoch: 10 [0]\tTrain Loss: 0.748399\n",
      "\n",
      "[EPOCH: 10], \tTest Loss: 0.0178, \tTest Accuracy: 66.87 % \n",
      "\n",
      "Train Epoch: 11 [0]\tTrain Loss: 0.697621\n",
      "\n",
      "[EPOCH: 11], \tTest Loss: 0.0178, \tTest Accuracy: 67.47 % \n",
      "\n",
      "Train Epoch: 12 [0]\tTrain Loss: 0.461423\n",
      "\n",
      "[EPOCH: 12], \tTest Loss: 0.0176, \tTest Accuracy: 69.28 % \n",
      "\n",
      "Train Epoch: 13 [0]\tTrain Loss: 0.400413\n",
      "\n",
      "[EPOCH: 13], \tTest Loss: 0.0179, \tTest Accuracy: 67.47 % \n",
      "\n",
      "Train Epoch: 14 [0]\tTrain Loss: 0.445496\n",
      "\n",
      "[EPOCH: 14], \tTest Loss: 0.0184, \tTest Accuracy: 62.05 % \n",
      "\n",
      "Train Epoch: 15 [0]\tTrain Loss: 0.538082\n",
      "\n",
      "[EPOCH: 15], \tTest Loss: 0.0178, \tTest Accuracy: 65.66 % \n",
      "\n",
      "Train Epoch: 16 [0]\tTrain Loss: 0.491245\n",
      "\n",
      "[EPOCH: 16], \tTest Loss: 0.0177, \tTest Accuracy: 71.08 % \n",
      "\n",
      "Train Epoch: 17 [0]\tTrain Loss: 0.483007\n",
      "\n",
      "[EPOCH: 17], \tTest Loss: 0.0169, \tTest Accuracy: 70.48 % \n",
      "\n",
      "Train Epoch: 18 [0]\tTrain Loss: 0.395400\n",
      "\n",
      "[EPOCH: 18], \tTest Loss: 0.0173, \tTest Accuracy: 72.89 % \n",
      "\n",
      "Train Epoch: 19 [0]\tTrain Loss: 0.439020\n",
      "\n",
      "[EPOCH: 19], \tTest Loss: 0.0172, \tTest Accuracy: 72.29 % \n",
      "\n",
      "Train Epoch: 20 [0]\tTrain Loss: 0.416136\n",
      "\n",
      "[EPOCH: 20], \tTest Loss: 0.0169, \tTest Accuracy: 72.29 % \n",
      "\n",
      "Train Epoch: 21 [0]\tTrain Loss: 0.276009\n",
      "\n",
      "[EPOCH: 21], \tTest Loss: 0.0169, \tTest Accuracy: 70.48 % \n",
      "\n",
      "Train Epoch: 22 [0]\tTrain Loss: 0.374358\n",
      "\n",
      "[EPOCH: 22], \tTest Loss: 0.0165, \tTest Accuracy: 74.10 % \n",
      "\n",
      "Train Epoch: 23 [0]\tTrain Loss: 0.352514\n",
      "\n",
      "[EPOCH: 23], \tTest Loss: 0.0164, \tTest Accuracy: 72.89 % \n",
      "\n",
      "Train Epoch: 24 [0]\tTrain Loss: 0.305198\n",
      "\n",
      "[EPOCH: 24], \tTest Loss: 0.0166, \tTest Accuracy: 73.49 % \n",
      "\n",
      "Train Epoch: 25 [0]\tTrain Loss: 0.375718\n",
      "\n",
      "[EPOCH: 25], \tTest Loss: 0.0167, \tTest Accuracy: 73.49 % \n",
      "\n",
      "Train Epoch: 26 [0]\tTrain Loss: 0.168207\n",
      "\n",
      "[EPOCH: 26], \tTest Loss: 0.0174, \tTest Accuracy: 67.47 % \n",
      "\n",
      "Train Epoch: 27 [0]\tTrain Loss: 0.420484\n",
      "\n",
      "[EPOCH: 27], \tTest Loss: 0.0165, \tTest Accuracy: 74.10 % \n",
      "\n",
      "Train Epoch: 28 [0]\tTrain Loss: 0.381570\n",
      "\n",
      "[EPOCH: 28], \tTest Loss: 0.0164, \tTest Accuracy: 75.30 % \n",
      "Train Epoch: 29 [0]\tTrain Loss: 0.270016\n",
      "\n",
      "[EPOCH: 29], \tTest Loss: 0.0162, \tTest Accuracy: 70.48 % \n",
      "\n",
      "Train Epoch: 30 [0]\tTrain Loss: 0.365833\n",
      "\n",
      "[EPOCH: 30], \tTest Loss: 0.0165, \tTest Accuracy: 72.29 % \n",
      "\n",
      "Train Epoch: 31 [0]\tTrain Loss: 0.333460\n",
      "\n",
      "[EPOCH: 31], \tTest Loss: 0.0163, \tTest Accuracy: 72.89 % \n",
      "\n",
      "Train Epoch: 32 [0]\tTrain Loss: 0.267334\n",
      "\n",
      "[EPOCH: 32], \tTest Loss: 0.0173, \tTest Accuracy: 72.89 % \n",
      "\n",
      "Train Epoch: 33 [0]\tTrain Loss: 0.321098\n",
      "\n",
      "[EPOCH: 33], \tTest Loss: 0.0187, \tTest Accuracy: 70.48 % \n",
      "\n",
      "Train Epoch: 34 [0]\tTrain Loss: 0.318837\n",
      "\n",
      "[EPOCH: 34], \tTest Loss: 0.0168, \tTest Accuracy: 75.30 % \n",
      "\n",
      "Train Epoch: 35 [0]\tTrain Loss: 0.370146\n",
      "\n",
      "[EPOCH: 35], \tTest Loss: 0.0168, \tTest Accuracy: 72.89 % \n",
      "\n",
      "Train Epoch: 36 [0]\tTrain Loss: 0.234004\n",
      "\n",
      "[EPOCH: 36], \tTest Loss: 0.0174, \tTest Accuracy: 72.29 % \n",
      "\n",
      "Train Epoch: 37 [0]\tTrain Loss: 0.299113\n",
      "\n",
      "[EPOCH: 37], \tTest Loss: 0.0176, \tTest Accuracy: 75.90 % \n",
      "\n",
      "Train Epoch: 38 [0]\tTrain Loss: 0.346273\n",
      "\n",
      "[EPOCH: 38], \tTest Loss: 0.0182, \tTest Accuracy: 68.07 % \n",
      "\n",
      "Train Epoch: 39 [0]\tTrain Loss: 0.493906\n",
      "\n",
      "[EPOCH: 39], \tTest Loss: 0.0185, \tTest Accuracy: 71.08 % \n",
      "\n",
      "Train Epoch: 40 [0]\tTrain Loss: 0.256908\n",
      "\n",
      "[EPOCH: 40], \tTest Loss: 0.0176, \tTest Accuracy: 71.08 % \n",
      "\n",
      "Train Epoch: 41 [0]\tTrain Loss: 0.373016\n",
      "\n",
      "[EPOCH: 41], \tTest Loss: 0.0172, \tTest Accuracy: 73.49 % \n",
      "\n",
      "Train Epoch: 42 [0]\tTrain Loss: 0.177322\n",
      "\n",
      "[EPOCH: 42], \tTest Loss: 0.0178, \tTest Accuracy: 72.29 % \n",
      "\n",
      "Train Epoch: 43 [0]\tTrain Loss: 0.291333\n",
      "\n",
      "[EPOCH: 43], \tTest Loss: 0.0190, \tTest Accuracy: 69.28 % \n",
      "\n",
      "Train Epoch: 44 [0]\tTrain Loss: 0.202767\n",
      "\n",
      "[EPOCH: 44], \tTest Loss: 0.0182, \tTest Accuracy: 69.88 % \n",
      "\n",
      "Train Epoch: 45 [0]\tTrain Loss: 0.142150\n",
      "\n",
      "[EPOCH: 45], \tTest Loss: 0.0187, \tTest Accuracy: 71.08 % \n",
      "\n",
      "Train Epoch: 46 [0]\tTrain Loss: 0.216723\n",
      "\n",
      "[EPOCH: 46], \tTest Loss: 0.0193, \tTest Accuracy: 70.48 % \n",
      "\n",
      "Train Epoch: 47 [0]\tTrain Loss: 0.110445\n",
      "\n",
      "[EPOCH: 47], \tTest Loss: 0.0193, \tTest Accuracy: 71.08 % \n",
      "\n",
      "Train Epoch: 48 [0]\tTrain Loss: 0.202509\n",
      "\n",
      "[EPOCH: 48], \tTest Loss: 0.0197, \tTest Accuracy: 70.48 % \n",
      "\n",
      "Train Epoch: 49 [0]\tTrain Loss: 0.268432\n",
      "\n",
      "[EPOCH: 49], \tTest Loss: 0.0200, \tTest Accuracy: 72.29 % \n",
      "\n",
      "Train Epoch: 50 [0]\tTrain Loss: 0.142478\n",
      "\n",
      "[EPOCH: 50], \tTest Loss: 0.0192, \tTest Accuracy: 71.08 % \n",
      "\n",
      "Train Epoch: 51 [0]\tTrain Loss: 0.319349\n",
      "\n",
      "[EPOCH: 51], \tTest Loss: 0.0208, \tTest Accuracy: 69.88 % \n",
      "\n",
      "Train Epoch: 52 [0]\tTrain Loss: 0.240188\n",
      "\n",
      "[EPOCH: 52], \tTest Loss: 0.0208, \tTest Accuracy: 69.28 % \n",
      "Train Epoch: 53 [0]\tTrain Loss: 0.160391\n",
      "\n",
      "[EPOCH: 53], \tTest Loss: 0.0204, \tTest Accuracy: 73.49 % \n",
      "\n",
      "Train Epoch: 54 [0]\tTrain Loss: 0.141994\n",
      "\n",
      "[EPOCH: 54], \tTest Loss: 0.0218, \tTest Accuracy: 68.07 % \n",
      "\n",
      "Train Epoch: 55 [0]\tTrain Loss: 0.207385\n",
      "\n",
      "[EPOCH: 55], \tTest Loss: 0.0216, \tTest Accuracy: 69.88 % \n",
      "\n",
      "Train Epoch: 56 [0]\tTrain Loss: 0.185346\n",
      "\n",
      "[EPOCH: 56], \tTest Loss: 0.0225, \tTest Accuracy: 68.67 % \n",
      "\n",
      "Train Epoch: 57 [0]\tTrain Loss: 0.088979\n",
      "\n",
      "[EPOCH: 57], \tTest Loss: 0.0220, \tTest Accuracy: 72.89 % \n",
      "\n",
      "Train Epoch: 58 [0]\tTrain Loss: 0.240387\n",
      "\n",
      "[EPOCH: 58], \tTest Loss: 0.0241, \tTest Accuracy: 71.08 % \n",
      "\n",
      "Train Epoch: 59 [0]\tTrain Loss: 0.261718\n",
      "\n",
      "[EPOCH: 59], \tTest Loss: 0.0230, \tTest Accuracy: 70.48 % \n",
      "\n",
      "Train Epoch: 60 [0]\tTrain Loss: 0.139884\n",
      "\n",
      "[EPOCH: 60], \tTest Loss: 0.0236, \tTest Accuracy: 68.67 % \n",
      "\n",
      "Train Epoch: 61 [0]\tTrain Loss: 0.072386\n",
      "\n",
      "[EPOCH: 61], \tTest Loss: 0.0241, \tTest Accuracy: 68.07 % \n",
      "\n",
      "Train Epoch: 62 [0]\tTrain Loss: 0.134019\n",
      "\n",
      "[EPOCH: 62], \tTest Loss: 0.0232, \tTest Accuracy: 69.28 % \n",
      "\n",
      "Train Epoch: 63 [0]\tTrain Loss: 0.121808\n",
      "\n",
      "[EPOCH: 63], \tTest Loss: 0.0230, \tTest Accuracy: 70.48 % \n",
      "\n",
      "Train Epoch: 64 [0]\tTrain Loss: 0.123482\n",
      "\n",
      "[EPOCH: 64], \tTest Loss: 0.0252, \tTest Accuracy: 69.88 % \n",
      "\n",
      "Train Epoch: 65 [0]\tTrain Loss: 0.062437\n",
      "\n",
      "[EPOCH: 65], \tTest Loss: 0.0244, \tTest Accuracy: 71.08 % \n",
      "\n",
      "Train Epoch: 66 [0]\tTrain Loss: 0.053332\n",
      "\n",
      "[EPOCH: 66], \tTest Loss: 0.0264, \tTest Accuracy: 69.88 % \n",
      "\n",
      "Train Epoch: 67 [0]\tTrain Loss: 0.208013\n",
      "\n",
      "[EPOCH: 67], \tTest Loss: 0.0251, \tTest Accuracy: 69.28 % \n",
      "\n",
      "Train Epoch: 68 [0]\tTrain Loss: 0.113653\n",
      "\n",
      "[EPOCH: 68], \tTest Loss: 0.0253, \tTest Accuracy: 68.07 % \n",
      "Train Epoch: 69 [0]\tTrain Loss: 0.033014\n",
      "\n",
      "[EPOCH: 69], \tTest Loss: 0.0258, \tTest Accuracy: 68.07 % \n",
      "Train Epoch: 70 [0]\tTrain Loss: 0.085611\n",
      "\n",
      "[EPOCH: 70], \tTest Loss: 0.0273, \tTest Accuracy: 68.67 % \n",
      "Train Epoch: 71 [0]\tTrain Loss: 0.087743\n",
      "\n",
      "[EPOCH: 71], \tTest Loss: 0.0279, \tTest Accuracy: 68.07 % \n",
      "Train Epoch: 72 [0]\tTrain Loss: 0.144164\n",
      "\n",
      "[EPOCH: 72], \tTest Loss: 0.0290, \tTest Accuracy: 67.47 % \n",
      "\n",
      "Train Epoch: 73 [0]\tTrain Loss: 0.097896\n",
      "\n",
      "[EPOCH: 73], \tTest Loss: 0.0279, \tTest Accuracy: 70.48 % \n",
      "\n",
      "Train Epoch: 74 [0]\tTrain Loss: 0.155042\n",
      "\n",
      "[EPOCH: 74], \tTest Loss: 0.0284, \tTest Accuracy: 69.28 % \n",
      "\n",
      "Train Epoch: 75 [0]\tTrain Loss: 0.085393\n",
      "\n",
      "[EPOCH: 75], \tTest Loss: 0.0293, \tTest Accuracy: 68.07 % \n",
      "\n",
      "Train Epoch: 76 [0]\tTrain Loss: 0.023491\n",
      "\n",
      "[EPOCH: 76], \tTest Loss: 0.0287, \tTest Accuracy: 68.67 % \n",
      "\n",
      "Train Epoch: 77 [0]\tTrain Loss: 0.033349\n",
      "\n",
      "[EPOCH: 77], \tTest Loss: 0.0311, \tTest Accuracy: 68.07 % \n",
      "\n",
      "Train Epoch: 78 [0]\tTrain Loss: 0.087170\n",
      "\n",
      "[EPOCH: 78], \tTest Loss: 0.0311, \tTest Accuracy: 69.88 % \n",
      "\n",
      "Train Epoch: 79 [0]\tTrain Loss: 0.074561\n",
      "\n",
      "[EPOCH: 79], \tTest Loss: 0.0322, \tTest Accuracy: 68.07 % \n",
      "\n",
      "Train Epoch: 80 [0]\tTrain Loss: 0.096427\n",
      "\n",
      "[EPOCH: 80], \tTest Loss: 0.0324, \tTest Accuracy: 68.07 % \n",
      "\n",
      "Train Epoch: 81 [0]\tTrain Loss: 0.063452\n",
      "\n",
      "[EPOCH: 81], \tTest Loss: 0.0313, \tTest Accuracy: 69.28 % \n",
      "\n",
      "Train Epoch: 82 [0]\tTrain Loss: 0.046678\n",
      "\n",
      "[EPOCH: 82], \tTest Loss: 0.0318, \tTest Accuracy: 69.28 % \n",
      "\n",
      "Train Epoch: 83 [0]\tTrain Loss: 0.060122\n",
      "\n",
      "[EPOCH: 83], \tTest Loss: 0.0331, \tTest Accuracy: 66.87 % \n",
      "\n",
      "Train Epoch: 84 [0]\tTrain Loss: 0.057121\n",
      "\n",
      "[EPOCH: 84], \tTest Loss: 0.0330, \tTest Accuracy: 68.67 % \n",
      "\n",
      "Train Epoch: 85 [0]\tTrain Loss: 0.042247\n",
      "\n",
      "[EPOCH: 85], \tTest Loss: 0.0322, \tTest Accuracy: 68.67 % \n",
      "\n",
      "Train Epoch: 86 [0]\tTrain Loss: 0.045641\n",
      "\n",
      "[EPOCH: 86], \tTest Loss: 0.0314, \tTest Accuracy: 68.67 % \n",
      "Train Epoch: 87 [0]\tTrain Loss: 0.031141\n",
      "\n",
      "[EPOCH: 87], \tTest Loss: 0.0352, \tTest Accuracy: 68.07 % \n",
      "Train Epoch: 88 [0]\tTrain Loss: 0.026759\n",
      "\n",
      "[EPOCH: 88], \tTest Loss: 0.0346, \tTest Accuracy: 67.47 % \n",
      "Train Epoch: 89 [0]\tTrain Loss: 0.025413\n",
      "\n",
      "[EPOCH: 89], \tTest Loss: 0.0351, \tTest Accuracy: 69.28 % \n",
      "\n",
      "Train Epoch: 90 [0]\tTrain Loss: 0.037076\n",
      "\n",
      "[EPOCH: 90], \tTest Loss: 0.0363, \tTest Accuracy: 66.87 % \n",
      "\n",
      "Train Epoch: 91 [0]\tTrain Loss: 0.012204\n",
      "\n",
      "[EPOCH: 91], \tTest Loss: 0.0354, \tTest Accuracy: 69.28 % \n",
      "\n",
      "Train Epoch: 92 [0]\tTrain Loss: 0.034292\n",
      "\n",
      "[EPOCH: 92], \tTest Loss: 0.0369, \tTest Accuracy: 68.07 % \n",
      "\n",
      "Train Epoch: 93 [0]\tTrain Loss: 0.030710\n",
      "\n",
      "[EPOCH: 93], \tTest Loss: 0.0363, \tTest Accuracy: 71.08 % \n",
      "\n",
      "Train Epoch: 94 [0]\tTrain Loss: 0.043456\n",
      "\n",
      "[EPOCH: 94], \tTest Loss: 0.0365, \tTest Accuracy: 70.48 % \n",
      "\n",
      "Train Epoch: 95 [0]\tTrain Loss: 0.038966\n",
      "\n",
      "[EPOCH: 95], \tTest Loss: 0.0348, \tTest Accuracy: 68.67 % \n",
      "\n",
      "Train Epoch: 96 [0]\tTrain Loss: 0.021060\n",
      "\n",
      "[EPOCH: 96], \tTest Loss: 0.0378, \tTest Accuracy: 68.07 % \n",
      "\n",
      "Train Epoch: 97 [0]\tTrain Loss: 0.022018\n",
      "\n",
      "[EPOCH: 97], \tTest Loss: 0.0385, \tTest Accuracy: 68.67 % \n",
      "\n",
      "Train Epoch: 98 [0]\tTrain Loss: 0.015807\n",
      "\n",
      "[EPOCH: 98], \tTest Loss: 0.0388, \tTest Accuracy: 68.67 % \n",
      "\n",
      "Train Epoch: 99 [0]\tTrain Loss: 0.018380\n",
      "\n",
      "[EPOCH: 99], \tTest Loss: 0.0392, \tTest Accuracy: 67.47 % \n",
      "\n",
      "Train Epoch: 100 [0]\tTrain Loss: 0.013135\n",
      "\n",
      "[EPOCH: 100], \tTest Loss: 0.0395, \tTest Accuracy: 66.87 % \n"
     ]
    }
   ],
   "source": [
    "# CNN 학습\n",
    "EPOCHS =100\n",
    "\n",
    "for epoch in range(1, EPOCHS + 1):\n",
    "    \n",
    "    train(epoch, model,trainDL, optimizer, log_interval = 200)\n",
    "    test_loss, test_accuracy = evaluate(model, testDL)\n",
    "    \n",
    "    print(f\"\\n[EPOCH: {epoch}], \\tTest Loss: {test_loss:.4f}, \\tTest Accuracy: {test_accuracy:.2f} % \\n\")"
   ],
   "metadata": {
    "collapsed": false,
    "ExecuteTime": {
     "end_time": "2024-03-27T07:02:58.271681400Z",
     "start_time": "2024-03-27T06:47:44.522687100Z"
    }
   },
   "id": "d27c31bac3db01f0",
   "execution_count": 17
  },
  {
   "cell_type": "code",
   "outputs": [],
   "source": [],
   "metadata": {
    "collapsed": false,
    "ExecuteTime": {
     "end_time": "2024-03-27T07:02:58.280155600Z",
     "start_time": "2024-03-27T07:02:58.274670200Z"
    }
   },
   "id": "54cea10ab65f420a",
   "execution_count": 17
  },
  {
   "cell_type": "markdown",
   "source": [
    "### ALEXNET 사용"
   ],
   "metadata": {
    "collapsed": false
   },
   "id": "6bd93230f302f168"
  },
  {
   "cell_type": "markdown",
   "source": [],
   "metadata": {
    "collapsed": false
   },
   "id": "63fc0277a28fe7ef"
  },
  {
   "cell_type": "code",
   "outputs": [],
   "source": [
    "from torchvision.models import resnet18,ResNet18_Weights,AlexNet\n",
    "\n",
    "#데이터 모델 학습 준비 \n",
    "model = AlexNet(num_classes=2) # 클래스 수에 맞춰 출력 레이어 수정\n",
    "model = model.to(DEVICE)\n",
    "\n",
    "# 손실 함수와 옵티마이저 정의\n",
    "criterion = nn.CrossEntropyLoss()\n",
    "optimizer = optim.Adam(model.parameters(), lr=0.001)\n",
    "# 데이터 재설정 \n",
    "\n",
    "ALEXPREPRO = transforms.Compose([\n",
    "    transforms.Resize(256),  # 이미지를 리사이징\n",
    "    transforms.CenterCrop(224),  # 이미지 중심부 자르기\n",
    "    transforms.ToTensor()\n",
    "])\n",
    "\n",
    "# 데이터셋과 데이터로더 생성\n",
    "ALEXvalidDS = ImageFolder(root=validation_root, transform=ALEXPREPRO)\n",
    "ALEXtestDS = ImageFolder(root=test_root, transform=ALEXPREPRO)\n",
    "ALEXtrainDS = ImageFolder(root=train_root, transform=ALEXPREPRO)\n",
    "\n",
    "ALEXtrainDL = DataLoader(ALEXtrainDS, batch_size=32, shuffle=True)\n",
    "ALEXvalidDL = DataLoader(ALEXvalidDS, batch_size=32, shuffle=False)\n",
    "ALEXtestDL = DataLoader(ALEXtestDS, batch_size=32, shuffle=False)\n",
    "\n",
    "\n",
    "\n",
    "\n",
    "\n",
    "\n",
    "\n"
   ],
   "metadata": {
    "collapsed": false,
    "ExecuteTime": {
     "end_time": "2024-03-27T07:02:58.755447Z",
     "start_time": "2024-03-27T07:02:58.286239800Z"
    }
   },
   "id": "1de77fd4eef50cfe",
   "execution_count": 18
  },
  {
   "cell_type": "code",
   "outputs": [],
   "source": [],
   "metadata": {
    "collapsed": false,
    "ExecuteTime": {
     "end_time": "2024-03-27T07:02:58.769311900Z",
     "start_time": "2024-03-27T07:02:58.756443700Z"
    }
   },
   "id": "8d5e6275b19aeaba",
   "execution_count": 18
  }
 ],
 "metadata": {
  "kernelspec": {
   "display_name": "Python 3",
   "language": "python",
   "name": "python3"
  },
  "language_info": {
   "codemirror_mode": {
    "name": "ipython",
    "version": 2
   },
   "file_extension": ".py",
   "mimetype": "text/x-python",
   "name": "python",
   "nbconvert_exporter": "python",
   "pygments_lexer": "ipython2",
   "version": "2.7.6"
  }
 },
 "nbformat": 4,
 "nbformat_minor": 5
}
